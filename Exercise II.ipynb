{
 "cells": [
  {
   "cell_type": "code",
   "execution_count": 4,
   "id": "a8c46c99",
   "metadata": {},
   "outputs": [],
   "source": [
    "#This sets the directory from which we will pull our dataset"
   ]
  },
  {
   "cell_type": "code",
   "execution_count": 6,
   "id": "843db3c4",
   "metadata": {},
   "outputs": [],
   "source": [
    "    #1)\tIf you were to train a model to classify the above digits, \n",
    "    #what class do you think it would be most likely to assign this one – 1. Explain your reasoning."
   ]
  },
  {
   "cell_type": "code",
   "execution_count": 7,
   "id": "8ba3b4be",
   "metadata": {},
   "outputs": [
    {
     "name": "stdout",
     "output_type": "stream",
     "text": [
      "C:\\Python\n"
     ]
    }
   ],
   "source": [
    "cd C:\\Python"
   ]
  },
  {
   "cell_type": "code",
   "execution_count": 8,
   "id": "a6f4dd4e",
   "metadata": {},
   "outputs": [],
   "source": [
    "#Imports pandas and numpy for use later on\n",
    "import pandas as pd\n",
    "import numpy as np\n",
    "\n",
    "#Imports our dataset from the CSV file Wind.CSV as \"wind\"\n",
    "wind = pd.read_csv(\"Wind.csv\")"
   ]
  },
  {
   "cell_type": "code",
   "execution_count": 9,
   "id": "8ba9c757",
   "metadata": {},
   "outputs": [
    {
     "data": {
      "text/html": [
       "<div>\n",
       "<style scoped>\n",
       "    .dataframe tbody tr th:only-of-type {\n",
       "        vertical-align: middle;\n",
       "    }\n",
       "\n",
       "    .dataframe tbody tr th {\n",
       "        vertical-align: top;\n",
       "    }\n",
       "\n",
       "    .dataframe thead th {\n",
       "        text-align: right;\n",
       "    }\n",
       "</style>\n",
       "<table border=\"1\" class=\"dataframe\">\n",
       "  <thead>\n",
       "    <tr style=\"text-align: right;\">\n",
       "      <th></th>\n",
       "      <th>Year</th>\n",
       "      <th>Month</th>\n",
       "      <th>Day</th>\n",
       "      <th>Hour</th>\n",
       "      <th>Minute</th>\n",
       "      <th>DHI</th>\n",
       "      <th>DNI</th>\n",
       "      <th>GHI</th>\n",
       "      <th>Clearsky DHI</th>\n",
       "      <th>Clearsky DNI</th>\n",
       "      <th>...</th>\n",
       "      <th>Solar Zenith Angle</th>\n",
       "      <th>Fill Flag</th>\n",
       "      <th>Surface Albedo</th>\n",
       "      <th>Wind Speed</th>\n",
       "      <th>Wind Direction</th>\n",
       "      <th>Relative Humidity</th>\n",
       "      <th>Temperature</th>\n",
       "      <th>Pressure</th>\n",
       "      <th>WindForce</th>\n",
       "      <th>date</th>\n",
       "    </tr>\n",
       "  </thead>\n",
       "  <tbody>\n",
       "    <tr>\n",
       "      <th>0</th>\n",
       "      <td>1998</td>\n",
       "      <td>1</td>\n",
       "      <td>1</td>\n",
       "      <td>0</td>\n",
       "      <td>0</td>\n",
       "      <td>0</td>\n",
       "      <td>0</td>\n",
       "      <td>0</td>\n",
       "      <td>0</td>\n",
       "      <td>0</td>\n",
       "      <td>...</td>\n",
       "      <td>161.94</td>\n",
       "      <td>0</td>\n",
       "      <td>0.16</td>\n",
       "      <td>4.7</td>\n",
       "      <td>207.2</td>\n",
       "      <td>92.94</td>\n",
       "      <td>-1.0</td>\n",
       "      <td>910</td>\n",
       "      <td>Gentle Breeze</td>\n",
       "      <td>1998-01-01 00:00:00</td>\n",
       "    </tr>\n",
       "    <tr>\n",
       "      <th>1</th>\n",
       "      <td>1998</td>\n",
       "      <td>1</td>\n",
       "      <td>1</td>\n",
       "      <td>0</td>\n",
       "      <td>30</td>\n",
       "      <td>0</td>\n",
       "      <td>0</td>\n",
       "      <td>0</td>\n",
       "      <td>0</td>\n",
       "      <td>0</td>\n",
       "      <td>...</td>\n",
       "      <td>164.56</td>\n",
       "      <td>0</td>\n",
       "      <td>0.16</td>\n",
       "      <td>4.6</td>\n",
       "      <td>207.2</td>\n",
       "      <td>92.92</td>\n",
       "      <td>-1.0</td>\n",
       "      <td>910</td>\n",
       "      <td>Gentle Breeze</td>\n",
       "      <td>1998-01-01 00:30:00</td>\n",
       "    </tr>\n",
       "    <tr>\n",
       "      <th>2</th>\n",
       "      <td>1998</td>\n",
       "      <td>1</td>\n",
       "      <td>1</td>\n",
       "      <td>1</td>\n",
       "      <td>0</td>\n",
       "      <td>0</td>\n",
       "      <td>0</td>\n",
       "      <td>0</td>\n",
       "      <td>0</td>\n",
       "      <td>0</td>\n",
       "      <td>...</td>\n",
       "      <td>164.74</td>\n",
       "      <td>0</td>\n",
       "      <td>0.16</td>\n",
       "      <td>4.5</td>\n",
       "      <td>212.2</td>\n",
       "      <td>92.43</td>\n",
       "      <td>-1.0</td>\n",
       "      <td>910</td>\n",
       "      <td>Gentle Breeze</td>\n",
       "      <td>1998-01-01 01:00:00</td>\n",
       "    </tr>\n",
       "    <tr>\n",
       "      <th>3</th>\n",
       "      <td>1998</td>\n",
       "      <td>1</td>\n",
       "      <td>1</td>\n",
       "      <td>1</td>\n",
       "      <td>30</td>\n",
       "      <td>0</td>\n",
       "      <td>0</td>\n",
       "      <td>0</td>\n",
       "      <td>0</td>\n",
       "      <td>0</td>\n",
       "      <td>...</td>\n",
       "      <td>162.40</td>\n",
       "      <td>0</td>\n",
       "      <td>0.16</td>\n",
       "      <td>4.4</td>\n",
       "      <td>212.2</td>\n",
       "      <td>92.41</td>\n",
       "      <td>-1.0</td>\n",
       "      <td>910</td>\n",
       "      <td>Gentle Breeze</td>\n",
       "      <td>1998-01-01 01:30:00</td>\n",
       "    </tr>\n",
       "    <tr>\n",
       "      <th>4</th>\n",
       "      <td>1998</td>\n",
       "      <td>1</td>\n",
       "      <td>1</td>\n",
       "      <td>2</td>\n",
       "      <td>0</td>\n",
       "      <td>0</td>\n",
       "      <td>0</td>\n",
       "      <td>0</td>\n",
       "      <td>0</td>\n",
       "      <td>0</td>\n",
       "      <td>...</td>\n",
       "      <td>158.35</td>\n",
       "      <td>0</td>\n",
       "      <td>0.16</td>\n",
       "      <td>4.3</td>\n",
       "      <td>218.9</td>\n",
       "      <td>91.88</td>\n",
       "      <td>-1.0</td>\n",
       "      <td>910</td>\n",
       "      <td>Gentle Breeze</td>\n",
       "      <td>1998-01-01 02:00:00</td>\n",
       "    </tr>\n",
       "  </tbody>\n",
       "</table>\n",
       "<p>5 rows × 23 columns</p>\n",
       "</div>"
      ],
      "text/plain": [
       "   Year  Month  Day  Hour  Minute  DHI  DNI  GHI  Clearsky DHI  Clearsky DNI  \\\n",
       "0  1998      1    1     0       0    0    0    0             0             0   \n",
       "1  1998      1    1     0      30    0    0    0             0             0   \n",
       "2  1998      1    1     1       0    0    0    0             0             0   \n",
       "3  1998      1    1     1      30    0    0    0             0             0   \n",
       "4  1998      1    1     2       0    0    0    0             0             0   \n",
       "\n",
       "   ...  Solar Zenith Angle  Fill Flag  Surface Albedo  Wind Speed  \\\n",
       "0  ...              161.94          0            0.16         4.7   \n",
       "1  ...              164.56          0            0.16         4.6   \n",
       "2  ...              164.74          0            0.16         4.5   \n",
       "3  ...              162.40          0            0.16         4.4   \n",
       "4  ...              158.35          0            0.16         4.3   \n",
       "\n",
       "   Wind Direction  Relative Humidity  Temperature  Pressure      WindForce  \\\n",
       "0           207.2              92.94         -1.0       910  Gentle Breeze   \n",
       "1           207.2              92.92         -1.0       910  Gentle Breeze   \n",
       "2           212.2              92.43         -1.0       910  Gentle Breeze   \n",
       "3           212.2              92.41         -1.0       910  Gentle Breeze   \n",
       "4           218.9              91.88         -1.0       910  Gentle Breeze   \n",
       "\n",
       "                 date  \n",
       "0 1998-01-01 00:00:00  \n",
       "1 1998-01-01 00:30:00  \n",
       "2 1998-01-01 01:00:00  \n",
       "3 1998-01-01 01:30:00  \n",
       "4 1998-01-01 02:00:00  \n",
       "\n",
       "[5 rows x 23 columns]"
      ]
     },
     "execution_count": 9,
     "metadata": {},
     "output_type": "execute_result"
    }
   ],
   "source": [
    "import datetime #for use below\n",
    "\n",
    "#Combines the values of year, month, day, hour, and minute to produce a single representative variable named \"date\"\n",
    "wind['date'] = pd.to_datetime(wind[[\"Year\", \"Month\", \"Day\", \"Hour\", \"Minute\"]])\n",
    "wind.head()"
   ]
  },
  {
   "cell_type": "code",
   "execution_count": 10,
   "id": "770135dd",
   "metadata": {},
   "outputs": [
    {
     "name": "stdout",
     "output_type": "stream",
     "text": [
      "<class 'pandas.core.frame.DataFrame'>\n",
      "RangeIndex: 385440 entries, 0 to 385439\n",
      "Data columns (total 23 columns):\n",
      " #   Column              Non-Null Count   Dtype         \n",
      "---  ------              --------------   -----         \n",
      " 0   Year                385440 non-null  int64         \n",
      " 1   Month               385440 non-null  int64         \n",
      " 2   Day                 385440 non-null  int64         \n",
      " 3   Hour                385440 non-null  int64         \n",
      " 4   Minute              385440 non-null  int64         \n",
      " 5   DHI                 385440 non-null  int64         \n",
      " 6   DNI                 385440 non-null  int64         \n",
      " 7   GHI                 385440 non-null  int64         \n",
      " 8   Clearsky DHI        385440 non-null  int64         \n",
      " 9   Clearsky DNI        385440 non-null  int64         \n",
      " 10  Clearsky GHI        385440 non-null  int64         \n",
      " 11  Cloud Type          385440 non-null  int64         \n",
      " 12  Dew Point           385440 non-null  float64       \n",
      " 13  Solar Zenith Angle  385440 non-null  float64       \n",
      " 14  Fill Flag           385440 non-null  int64         \n",
      " 15  Surface Albedo      385440 non-null  float64       \n",
      " 16  Wind Speed          385440 non-null  float64       \n",
      " 17  Wind Direction      385440 non-null  float64       \n",
      " 18  Relative Humidity   385440 non-null  float64       \n",
      " 19  Temperature         385440 non-null  float64       \n",
      " 20  Pressure            385440 non-null  int64         \n",
      " 21  WindForce           385440 non-null  object        \n",
      " 22  date                385440 non-null  datetime64[ns]\n",
      "dtypes: datetime64[ns](1), float64(7), int64(14), object(1)\n",
      "memory usage: 67.6+ MB\n"
     ]
    }
   ],
   "source": [
    "#Lists out all variables, how many instances there are of each, and their data types\n",
    "wind.info()"
   ]
  },
  {
   "cell_type": "code",
   "execution_count": 11,
   "id": "cc05872b",
   "metadata": {},
   "outputs": [
    {
     "data": {
      "image/png": "[encoded data removed]",
      "text/plain": [
       "<Figure size 864x432 with 1 Axes>"
      ]
     },
     "metadata": {
      "needs_background": "light"
     },
     "output_type": "display_data"
    },
    {
     "data": {
      "image/png": "[encoded data removed]",
      "text/plain": [
       "<Figure size 864x432 with 1 Axes>"
      ]
     },
     "metadata": {
      "needs_background": "light"
     },
     "output_type": "display_data"
    }
   ],
   "source": [
    "%matplotlib inline\n",
    "import matplotlib.pyplot as plt #for use below\n",
    "\n",
    "\n",
    "#Creates a 12x6 plot of windforce as a function of the date\n",
    "plt.figure(figsize=(12, 6))\n",
    "plt.plot(wind['date'], wind['WindForce'], 'o')           # scatter plot showing actual data\n",
    "\n",
    "plt.xlabel('Date')\n",
    "plt.ylabel('WindfForce')\n",
    "plt.title('WindForce as a function of Date')\n",
    "\n",
    "#limits the x axis to the first five days of January of 2000\n",
    "plt.xlim([datetime.date(2000,1,1), datetime.date(2000,1,5)])\n",
    "\n",
    "plt.show()\n",
    "\n",
    "plt.figure(figsize=(12, 6))\n",
    "plt.plot(wind['date'], wind['WindForce'], 'o')           # scatter plot showing actual data\n",
    "\n",
    "plt.xlabel('Date')\n",
    "plt.ylabel('WindfForce')\n",
    "plt.title('WindForce as a function of Date')\n",
    "\n",
    "#Limits the x axis to 2000 - 2001\n",
    "plt.xlim([datetime.date(2000,1,1), datetime.date(2001,1,1)])\n",
    "\n",
    "plt.show()"
   ]
  },
  {
   "cell_type": "code",
   "execution_count": 13,
   "id": "8adffd82",
   "metadata": {},
   "outputs": [],
   "source": [
    "    #2)\tHow would you go about converting a categorical variable to a numerical one? \n",
    "    #Describe how you might list out the windforce categories in your spreadsheet. "
   ]
  },
  {
   "cell_type": "code",
   "execution_count": 14,
   "id": "7e0345e3",
   "metadata": {},
   "outputs": [
    {
     "data": {
      "text/html": [
       "<div>\n",
       "<style scoped>\n",
       "    .dataframe tbody tr th:only-of-type {\n",
       "        vertical-align: middle;\n",
       "    }\n",
       "\n",
       "    .dataframe tbody tr th {\n",
       "        vertical-align: top;\n",
       "    }\n",
       "\n",
       "    .dataframe thead th {\n",
       "        text-align: right;\n",
       "    }\n",
       "</style>\n",
       "<table border=\"1\" class=\"dataframe\">\n",
       "  <thead>\n",
       "    <tr style=\"text-align: right;\">\n",
       "      <th></th>\n",
       "      <th>WindForce</th>\n",
       "    </tr>\n",
       "  </thead>\n",
       "  <tbody>\n",
       "    <tr>\n",
       "      <th>0</th>\n",
       "      <td>Gentle Breeze</td>\n",
       "    </tr>\n",
       "    <tr>\n",
       "      <th>1</th>\n",
       "      <td>Gentle Breeze</td>\n",
       "    </tr>\n",
       "    <tr>\n",
       "      <th>2</th>\n",
       "      <td>Gentle Breeze</td>\n",
       "    </tr>\n",
       "    <tr>\n",
       "      <th>3</th>\n",
       "      <td>Gentle Breeze</td>\n",
       "    </tr>\n",
       "    <tr>\n",
       "      <th>4</th>\n",
       "      <td>Gentle Breeze</td>\n",
       "    </tr>\n",
       "    <tr>\n",
       "      <th>5</th>\n",
       "      <td>Gentle Breeze</td>\n",
       "    </tr>\n",
       "    <tr>\n",
       "      <th>6</th>\n",
       "      <td>Gentle Breeze</td>\n",
       "    </tr>\n",
       "    <tr>\n",
       "      <th>7</th>\n",
       "      <td>Gentle Breeze</td>\n",
       "    </tr>\n",
       "    <tr>\n",
       "      <th>8</th>\n",
       "      <td>Light Breeze</td>\n",
       "    </tr>\n",
       "    <tr>\n",
       "      <th>9</th>\n",
       "      <td>Light Breeze</td>\n",
       "    </tr>\n",
       "  </tbody>\n",
       "</table>\n",
       "</div>"
      ],
      "text/plain": [
       "       WindForce\n",
       "0  Gentle Breeze\n",
       "1  Gentle Breeze\n",
       "2  Gentle Breeze\n",
       "3  Gentle Breeze\n",
       "4  Gentle Breeze\n",
       "5  Gentle Breeze\n",
       "6  Gentle Breeze\n",
       "7  Gentle Breeze\n",
       "8   Light Breeze\n",
       "9   Light Breeze"
      ]
     },
     "execution_count": 14,
     "metadata": {},
     "output_type": "execute_result"
    }
   ],
   "source": [
    "#Defines windforce as wind_cat, look at first few lines\n",
    "wind_cat = wind[[\"WindForce\"]]\n",
    "wind_cat.head(10)"
   ]
  },
  {
   "cell_type": "code",
   "execution_count": 15,
   "id": "88c1bbff",
   "metadata": {},
   "outputs": [],
   "source": [
    "#Import ordinal encoder and rename as encoder for ease of use\n",
    "from sklearn.preprocessing import OrdinalEncoder\n",
    "\n",
    "encoder = OrdinalEncoder()\n",
    "\n",
    "#When calling wind_cat_encoded we use the ordinal encoder to numerically encode the categorical variables\n",
    "wind_cat_encoded = encoder.fit_transform(wind_cat)\n",
    "wind['windcat'] = wind_cat_encoded"
   ]
  },
  {
   "cell_type": "code",
   "execution_count": 16,
   "id": "a85f4781",
   "metadata": {},
   "outputs": [],
   "source": [
    "%matplotlib inline\n",
    "import matplotlib.pyplot as plt #for later use\n",
    "\n",
    "from sklearn.model_selection import train_test_split\n",
    "\n",
    "#Splits the data into a train and test set\n",
    "train_set, test_set = train_test_split(wind, test_size=0.1, random_state=42)"
   ]
  },
  {
   "cell_type": "code",
   "execution_count": 17,
   "id": "754ea4b3",
   "metadata": {},
   "outputs": [],
   "source": [
    "corr_matrix = wind.corr()"
   ]
  },
  {
   "cell_type": "code",
   "execution_count": 18,
   "id": "768a876e",
   "metadata": {},
   "outputs": [
    {
     "data": {
      "text/plain": [
       "windcat               1.000000\n",
       "Wind Direction        0.019450\n",
       "GHI                   0.015169\n",
       "DNI                   0.013125\n",
       "Surface Albedo        0.013111\n",
       "Clearsky GHI          0.012934\n",
       "Clearsky DNI          0.012398\n",
       "Pressure              0.012282\n",
       "Hour                  0.011554\n",
       "DHI                   0.008063\n",
       "Year                  0.006950\n",
       "Minute                0.004363\n",
       "Clearsky DHI          0.004312\n",
       "Fill Flag             0.001294\n",
       "Day                   0.000316\n",
       "Cloud Type           -0.002164\n",
       "Solar Zenith Angle   -0.005312\n",
       "Month                -0.005393\n",
       "Relative Humidity    -0.007423\n",
       "Temperature          -0.025759\n",
       "Wind Speed           -0.026719\n",
       "Dew Point            -0.036294\n",
       "Name: windcat, dtype: float64"
      ]
     },
     "execution_count": 18,
     "metadata": {},
     "output_type": "execute_result"
    }
   ],
   "source": [
    "#Creates a correlation matrix showing the correlation of each variable with windcat (our encoded version of windforce)\n",
    "corr_matrix[\"windcat\"].sort_values(ascending=False)"
   ]
  },
  {
   "cell_type": "code",
   "execution_count": 19,
   "id": "5a8d327c",
   "metadata": {},
   "outputs": [],
   "source": [
    "    #3)\tWithout rearranging our categories to correspond with figure 2, \n",
    "    #how do you think our model will perform at predicting categories? "
   ]
  },
  {
   "cell_type": "code",
   "execution_count": 20,
   "id": "d25aa64c",
   "metadata": {},
   "outputs": [
    {
     "data": {
      "text/plain": [
       "SimpleImputer()"
      ]
     },
     "execution_count": 20,
     "metadata": {},
     "output_type": "execute_result"
    }
   ],
   "source": [
    "from sklearn.impute import SimpleImputer\n",
    "imputer = SimpleImputer(strategy=\"mean\")\n",
    "\n",
    "#Defines the numerical variables we intend to consider for training \n",
    "wind_num = wind.drop([\"WindForce\", \"Wind Speed\", \"date\", #\"Minute\", \"Clearsky DHI\", \"Clearsky DNI\", \"Clearsky GHI\"\n",
    "                          #, \"Year\", \"Day\",\"GHI\", \"DHI\", \"DNI\",\n",
    "                      #\"Hour\", \"Cloud Type\", \"Fill Flag\", \"Month\", \n",
    "                      \"windcat\"\n",
    "                         ], axis = 1)\n",
    "\n",
    "#Fills in any blank values according to the imputer strategy defined above\n",
    "imputer.fit(wind_num)"
   ]
  },
  {
   "cell_type": "code",
   "execution_count": 21,
   "id": "b97ceb6e",
   "metadata": {},
   "outputs": [],
   "source": [
    "from sklearn.pipeline import Pipeline\n",
    "from sklearn.preprocessing import StandardScaler\n",
    "\n",
    "#Defines the imputer strategy and scaler method used to transform our numerical variables\n",
    "num_pipeline = Pipeline([\n",
    "        ('imputer', SimpleImputer(strategy=\"mean\")),('std_scaler',StandardScaler())\n",
    "#        ('attribs_adder', CombinedAttributesAdder()),\n",
    "    ])"
   ]
  },
  {
   "cell_type": "code",
   "execution_count": 22,
   "id": "c2c74dcf",
   "metadata": {},
   "outputs": [],
   "source": [
    "from sklearn.preprocessing import OneHotEncoder\n",
    "\n",
    "from sklearn.compose import ColumnTransformer\n",
    "\n",
    "#Defines numerical and categorical attributes \n",
    "num_attribs = list(wind_num)\n",
    "cat_attribs = []\n",
    "\n",
    "#Defines our full pipeline as the combination of the above numerical and categorical pipelines\n",
    "full_pipeline = ColumnTransformer([\n",
    "        (\"num\", num_pipeline, num_attribs),\n",
    "        (\"cat\", OneHotEncoder(), cat_attribs),\n",
    "    ])\n",
    "\n",
    "#Calls pipeline to transform our train and test datasets according to the above specifications\n",
    "wind_prepared = full_pipeline.fit_transform(train_set)\n",
    "test_wind_prepared = full_pipeline.fit_transform(test_set)"
   ]
  },
  {
   "cell_type": "code",
   "execution_count": 23,
   "id": "e917dce0",
   "metadata": {},
   "outputs": [
    {
     "data": {
      "text/plain": [
       "DecisionTreeClassifier(max_depth=200, max_features='auto', random_state=42)"
      ]
     },
     "execution_count": 23,
     "metadata": {},
     "output_type": "execute_result"
    }
   ],
   "source": [
    "from sklearn.tree import DecisionTreeClassifier\n",
    "\n",
    "#Defines tree_reg as a decision tree classifier with the listed hyperparameters and calls it to make predictions on windcat\n",
    "\n",
    "tree_reg = DecisionTreeClassifier(random_state=42,\n",
    "                                 min_samples_split = 2,\n",
    "                                 min_samples_leaf = 1,\n",
    "                                 max_features = 'auto',\n",
    "                                 max_depth = 200)\n",
    "\n",
    "tree_reg.fit(wind_prepared, train_set[\"windcat\"])"
   ]
  },
  {
   "cell_type": "code",
   "execution_count": 24,
   "id": "7d574a28",
   "metadata": {},
   "outputs": [
    {
     "data": {
      "text/plain": [
       "0.0"
      ]
     },
     "execution_count": 24,
     "metadata": {},
     "output_type": "execute_result"
    }
   ],
   "source": [
    "from sklearn.metrics import mean_squared_error\n",
    "\n",
    "#Train predictions RMSE\n",
    "wind_predictions = tree_reg.predict(wind_prepared)\n",
    "test_wind_predictions = tree_reg.predict(test_wind_prepared)\n",
    "tree_mse = mean_squared_error(train_set[\"windcat\"], wind_predictions)\n",
    "tree_rmse = np.sqrt(tree_mse)\n",
    "tree_rmse"
   ]
  },
  {
   "cell_type": "code",
   "execution_count": 25,
   "id": "186ba953",
   "metadata": {},
   "outputs": [
    {
     "data": {
      "text/plain": [
       "1.2935140914797902"
      ]
     },
     "execution_count": 25,
     "metadata": {},
     "output_type": "execute_result"
    }
   ],
   "source": [
    "#And the test set RMSE\n",
    "wind_predictions = tree_reg.predict(wind_prepared)\n",
    "test_wind_predictions = tree_reg.predict(test_wind_prepared)\n",
    "tree_mse = mean_squared_error(test_set[\"windcat\"], test_wind_predictions)\n",
    "tree_rmse = np.sqrt(tree_mse)\n",
    "tree_rmse"
   ]
  },
  {
   "cell_type": "code",
   "execution_count": 26,
   "id": "4da73983",
   "metadata": {},
   "outputs": [
    {
     "data": {
      "text/plain": [
       "RandomForestClassifier(max_depth=150, n_estimators=200, n_jobs=8,\n",
       "                       random_state=42)"
      ]
     },
     "execution_count": 26,
     "metadata": {},
     "output_type": "execute_result"
    }
   ],
   "source": [
    "#Imports various models for training\n",
    "from sklearn.ensemble import RandomForestClassifier\n",
    "from sklearn.metrics import mean_squared_error\n",
    "\n",
    "\n",
    "#Defines forest_reg as a randomforest classifier with the listedd parameters\n",
    "forest_reg = RandomForestClassifier(\n",
    "    n_estimators=200, \n",
    "    n_jobs = 8, \n",
    "    random_state=42, \n",
    "    max_depth= 150, \n",
    "    min_samples_leaf = 1, \n",
    "    min_samples_split = 2\n",
    ")\n",
    "\n",
    "#Calls forest_reg to fit the wind data making predictions on \"windcat\"\n",
    "forest_reg.fit(wind_prepared, train_set[\"windcat\"])"
   ]
  },
  {
   "cell_type": "code",
   "execution_count": 27,
   "id": "8bf6d7e1",
   "metadata": {},
   "outputs": [
    {
     "data": {
      "text/plain": [
       "0.0"
      ]
     },
     "execution_count": 27,
     "metadata": {},
     "output_type": "execute_result"
    }
   ],
   "source": [
    "#Train set predictions RMSE\n",
    "\n",
    "wind_predictions = forest_reg.predict(wind_prepared)\n",
    "test_wind_predictions = forest_reg.predict(test_wind_prepared)\n",
    "forest_mse = mean_squared_error(train_set[\"windcat\"], wind_predictions)\n",
    "forest_rmse = np.sqrt(forest_mse)\n",
    "forest_rmse"
   ]
  },
  {
   "cell_type": "code",
   "execution_count": 29,
   "id": "ee2625b3",
   "metadata": {},
   "outputs": [
    {
     "data": {
      "text/plain": [
       "0.965038493694937"
      ]
     },
     "execution_count": 29,
     "metadata": {},
     "output_type": "execute_result"
    }
   ],
   "source": [
    "#Test set predictions RMSE\n",
    "\n",
    "forest_mse = mean_squared_error(test_set[\"windcat\"], test_wind_predictions)\n",
    "forest_rmse = np.sqrt(forest_mse)\n",
    "forest_rmse"
   ]
  },
  {
   "cell_type": "code",
   "execution_count": 30,
   "id": "2621df3f",
   "metadata": {},
   "outputs": [],
   "source": [
    "#Creates a validation subset from the train set for use with a neural network\n",
    "train_set, validation_set = train_test_split(train_set, test_size = 0.1, random_state = 42)\n",
    "\n",
    "#Defines new test, train, and validation sets to call the pipeline to transform for the neural network (NN)\n",
    "train_wind_prepared = full_pipeline.fit_transform(train_set)\n",
    "test_wind_prepared = full_pipeline.fit_transform(test_set)\n",
    "validation_wind_prepared = full_pipeline.fit_transform(validation_set)"
   ]
  },
  {
   "cell_type": "code",
   "execution_count": 31,
   "id": "89b45f0a",
   "metadata": {
    "scrolled": true
   },
   "outputs": [
    {
     "name": "stdout",
     "output_type": "stream",
     "text": [
      "Epoch 1/200\n",
      "610/610 [==============================] - 3s 5ms/step - loss: 2.1158 - accuracy: 0.0021 - val_loss: 2.0955 - val_accuracy: 0.0118\n",
      "Epoch 2/200\n",
      "610/610 [==============================] - 3s 5ms/step - loss: 2.0798 - accuracy: 0.0726 - val_loss: 2.0652 - val_accuracy: 0.1589\n",
      "Epoch 3/200\n",
      "610/610 [==============================] - 3s 5ms/step - loss: 2.0524 - accuracy: 0.2489 - val_loss: 2.0398 - val_accuracy: 0.3154\n",
      "Epoch 4/200\n",
      "610/610 [==============================] - 3s 5ms/step - loss: 2.0277 - accuracy: 0.3441 - val_loss: 2.0159 - val_accuracy: 0.3580\n",
      "Epoch 5/200\n",
      "610/610 [==============================] - 3s 5ms/step - loss: 2.0045 - accuracy: 0.3619 - val_loss: 1.9934 - val_accuracy: 0.3615\n",
      "Epoch 6/200\n",
      "610/610 [==============================] - 3s 5ms/step - loss: 1.9825 - accuracy: 0.3622 - val_loss: 1.9721 - val_accuracy: 0.3595\n",
      "Epoch 7/200\n",
      "610/610 [==============================] - 3s 5ms/step - loss: 1.9616 - accuracy: 0.3613 - val_loss: 1.9515 - val_accuracy: 0.3590\n",
      "Epoch 8/200\n",
      "610/610 [==============================] - 3s 5ms/step - loss: 1.9412 - accuracy: 0.3605 - val_loss: 1.9315 - val_accuracy: 0.3584\n",
      "Epoch 9/200\n",
      "610/610 [==============================] - 3s 5ms/step - loss: 1.9212 - accuracy: 0.3603 - val_loss: 1.9117 - val_accuracy: 0.3584\n",
      "Epoch 10/200\n",
      "610/610 [==============================] - 3s 5ms/step - loss: 1.9014 - accuracy: 0.3601 - val_loss: 1.8921 - val_accuracy: 0.3582\n",
      "Epoch 11/200\n",
      "610/610 [==============================] - 3s 5ms/step - loss: 1.8818 - accuracy: 0.3600 - val_loss: 1.8725 - val_accuracy: 0.3582\n",
      "Epoch 12/200\n",
      "610/610 [==============================] - 3s 5ms/step - loss: 1.8621 - accuracy: 0.3600 - val_loss: 1.8529 - val_accuracy: 0.3582\n",
      "Epoch 13/200\n",
      "610/610 [==============================] - 3s 5ms/step - loss: 1.8425 - accuracy: 0.3600 - val_loss: 1.8334 - val_accuracy: 0.3582\n",
      "Epoch 14/200\n",
      "610/610 [==============================] - 3s 5ms/step - loss: 1.8228 - accuracy: 0.3600 - val_loss: 1.8138 - val_accuracy: 0.3583\n",
      "Epoch 15/200\n",
      "610/610 [==============================] - 3s 5ms/step - loss: 1.8032 - accuracy: 0.3600 - val_loss: 1.7944 - val_accuracy: 0.3582\n",
      "Epoch 16/200\n",
      "610/610 [==============================] - 3s 5ms/step - loss: 1.7837 - accuracy: 0.3600 - val_loss: 1.7750 - val_accuracy: 0.3582\n",
      "Epoch 17/200\n",
      "610/610 [==============================] - 3s 5ms/step - loss: 1.7644 - accuracy: 0.3600 - val_loss: 1.7559 - val_accuracy: 0.3582\n",
      "Epoch 18/200\n",
      "610/610 [==============================] - 3s 5ms/step - loss: 1.7453 - accuracy: 0.3600 - val_loss: 1.7370 - val_accuracy: 0.3582\n",
      "Epoch 19/200\n",
      "610/610 [==============================] - 3s 5ms/step - loss: 1.7265 - accuracy: 0.3600 - val_loss: 1.7185 - val_accuracy: 0.3582\n",
      "Epoch 20/200\n",
      "610/610 [==============================] - 3s 5ms/step - loss: 1.7081 - accuracy: 0.3600 - val_loss: 1.7005 - val_accuracy: 0.3582\n",
      "Epoch 21/200\n",
      "610/610 [==============================] - 3s 5ms/step - loss: 1.6902 - accuracy: 0.3600 - val_loss: 1.6831 - val_accuracy: 0.3582\n",
      "Epoch 22/200\n",
      "610/610 [==============================] - 3s 5ms/step - loss: 1.6730 - accuracy: 0.3600 - val_loss: 1.6663 - val_accuracy: 0.3582\n",
      "Epoch 23/200\n",
      "610/610 [==============================] - 3s 5ms/step - loss: 1.6564 - accuracy: 0.3600 - val_loss: 1.6502 - val_accuracy: 0.3582\n",
      "Epoch 24/200\n",
      "610/610 [==============================] - 3s 5ms/step - loss: 1.6407 - accuracy: 0.3601 - val_loss: 1.6349 - val_accuracy: 0.3583\n",
      "Epoch 25/200\n",
      "610/610 [==============================] - 3s 5ms/step - loss: 1.6257 - accuracy: 0.3601 - val_loss: 1.6205 - val_accuracy: 0.3584\n",
      "Epoch 26/200\n",
      "610/610 [==============================] - 3s 5ms/step - loss: 1.6115 - accuracy: 0.3602 - val_loss: 1.6068 - val_accuracy: 0.3587\n",
      "Epoch 27/200\n",
      "610/610 [==============================] - 3s 5ms/step - loss: 1.5982 - accuracy: 0.3605 - val_loss: 1.5940 - val_accuracy: 0.3591\n",
      "Epoch 28/200\n",
      "610/610 [==============================] - 3s 5ms/step - loss: 1.5856 - accuracy: 0.3612 - val_loss: 1.5818 - val_accuracy: 0.3599\n",
      "Epoch 29/200\n",
      "610/610 [==============================] - 3s 5ms/step - loss: 1.5737 - accuracy: 0.3625 - val_loss: 1.5704 - val_accuracy: 0.3607\n",
      "Epoch 30/200\n",
      "610/610 [==============================] - 3s 5ms/step - loss: 1.5625 - accuracy: 0.3641 - val_loss: 1.5597 - val_accuracy: 0.3632\n",
      "Epoch 31/200\n",
      "610/610 [==============================] - 3s 5ms/step - loss: 1.5520 - accuracy: 0.3667 - val_loss: 1.5495 - val_accuracy: 0.3656\n",
      "Epoch 32/200\n",
      "610/610 [==============================] - 3s 5ms/step - loss: 1.5421 - accuracy: 0.3704 - val_loss: 1.5400 - val_accuracy: 0.3695\n",
      "Epoch 33/200\n",
      "610/610 [==============================] - 3s 5ms/step - loss: 1.5328 - accuracy: 0.3748 - val_loss: 1.5311 - val_accuracy: 0.3736\n",
      "Epoch 34/200\n",
      "610/610 [==============================] - 3s 5ms/step - loss: 1.5240 - accuracy: 0.3794 - val_loss: 1.5226 - val_accuracy: 0.3782\n",
      "Epoch 35/200\n",
      "610/610 [==============================] - 3s 5ms/step - loss: 1.5157 - accuracy: 0.3835 - val_loss: 1.5147 - val_accuracy: 0.3818\n",
      "Epoch 36/200\n",
      "610/610 [==============================] - 3s 5ms/step - loss: 1.5080 - accuracy: 0.3864 - val_loss: 1.5072 - val_accuracy: 0.3839\n",
      "Epoch 37/200\n",
      "610/610 [==============================] - 3s 5ms/step - loss: 1.5006 - accuracy: 0.3886 - val_loss: 1.5002 - val_accuracy: 0.3856\n",
      "Epoch 38/200\n",
      "610/610 [==============================] - 3s 5ms/step - loss: 1.4937 - accuracy: 0.3909 - val_loss: 1.4935 - val_accuracy: 0.3869\n",
      "Epoch 39/200\n",
      "610/610 [==============================] - 3s 5ms/step - loss: 1.4872 - accuracy: 0.3921 - val_loss: 1.4873 - val_accuracy: 0.3887\n",
      "Epoch 40/200\n",
      "610/610 [==============================] - 3s 5ms/step - loss: 1.4811 - accuracy: 0.3932 - val_loss: 1.4814 - val_accuracy: 0.3907\n",
      "Epoch 41/200\n",
      "610/610 [==============================] - 3s 5ms/step - loss: 1.4754 - accuracy: 0.3941 - val_loss: 1.4759 - val_accuracy: 0.3917\n",
      "Epoch 42/200\n",
      "610/610 [==============================] - 3s 5ms/step - loss: 1.4700 - accuracy: 0.3952 - val_loss: 1.4708 - val_accuracy: 0.3915\n",
      "Epoch 43/200\n",
      "610/610 [==============================] - 3s 5ms/step - loss: 1.4650 - accuracy: 0.3961 - val_loss: 1.4659 - val_accuracy: 0.3928\n",
      "Epoch 44/200\n",
      "610/610 [==============================] - 3s 5ms/step - loss: 1.4603 - accuracy: 0.3967 - val_loss: 1.4614 - val_accuracy: 0.3931\n",
      "Epoch 45/200\n",
      "610/610 [==============================] - 3s 5ms/step - loss: 1.4559 - accuracy: 0.3970 - val_loss: 1.4572 - val_accuracy: 0.3934\n",
      "Epoch 46/200\n",
      "610/610 [==============================] - 3s 5ms/step - loss: 1.4518 - accuracy: 0.3973 - val_loss: 1.4532 - val_accuracy: 0.3940\n",
      "Epoch 47/200\n",
      "610/610 [==============================] - 3s 5ms/step - loss: 1.4479 - accuracy: 0.3977 - val_loss: 1.4496 - val_accuracy: 0.3943\n",
      "Epoch 48/200\n",
      "610/610 [==============================] - 3s 5ms/step - loss: 1.4443 - accuracy: 0.3979 - val_loss: 1.4461 - val_accuracy: 0.3945\n",
      "Epoch 49/200\n",
      "610/610 [==============================] - 3s 5ms/step - loss: 1.4410 - accuracy: 0.3982 - val_loss: 1.4429 - val_accuracy: 0.3944\n",
      "Epoch 50/200\n",
      "610/610 [==============================] - 3s 5ms/step - loss: 1.4378 - accuracy: 0.3985 - val_loss: 1.4399 - val_accuracy: 0.3947\n",
      "Epoch 51/200\n",
      "610/610 [==============================] - 3s 5ms/step - loss: 1.4349 - accuracy: 0.3985 - val_loss: 1.4371 - val_accuracy: 0.3946\n",
      "Epoch 52/200\n",
      "610/610 [==============================] - 3s 5ms/step - loss: 1.4322 - accuracy: 0.3987 - val_loss: 1.4345 - val_accuracy: 0.3950\n",
      "Epoch 53/200\n",
      "610/610 [==============================] - 3s 5ms/step - loss: 1.4296 - accuracy: 0.3986 - val_loss: 1.4320 - val_accuracy: 0.3952\n",
      "Epoch 54/200\n",
      "610/610 [==============================] - 3s 5ms/step - loss: 1.4272 - accuracy: 0.3987 - val_loss: 1.4297 - val_accuracy: 0.3948\n",
      "Epoch 55/200\n",
      "610/610 [==============================] - 3s 5ms/step - loss: 1.4250 - accuracy: 0.3989 - val_loss: 1.4275 - val_accuracy: 0.3945\n",
      "Epoch 56/200\n",
      "610/610 [==============================] - 3s 5ms/step - loss: 1.4229 - accuracy: 0.3990 - val_loss: 1.4255 - val_accuracy: 0.3945\n",
      "Epoch 57/200\n",
      "610/610 [==============================] - 3s 5ms/step - loss: 1.4209 - accuracy: 0.3992 - val_loss: 1.4236 - val_accuracy: 0.3946\n"
     ]
    },
    {
     "name": "stdout",
     "output_type": "stream",
     "text": [
      "Epoch 58/200\n",
      "610/610 [==============================] - 3s 5ms/step - loss: 1.4190 - accuracy: 0.3992 - val_loss: 1.4217 - val_accuracy: 0.3954\n",
      "Epoch 59/200\n",
      "610/610 [==============================] - 3s 5ms/step - loss: 1.4173 - accuracy: 0.3993 - val_loss: 1.4200 - val_accuracy: 0.3958\n",
      "Epoch 60/200\n",
      "610/610 [==============================] - 3s 5ms/step - loss: 1.4156 - accuracy: 0.3994 - val_loss: 1.4184 - val_accuracy: 0.3956\n",
      "Epoch 61/200\n",
      "610/610 [==============================] - 3s 5ms/step - loss: 1.4140 - accuracy: 0.3995 - val_loss: 1.4169 - val_accuracy: 0.3958\n",
      "Epoch 62/200\n",
      "610/610 [==============================] - 3s 5ms/step - loss: 1.4125 - accuracy: 0.3995 - val_loss: 1.4154 - val_accuracy: 0.3958\n",
      "Epoch 63/200\n",
      "610/610 [==============================] - 3s 5ms/step - loss: 1.4111 - accuracy: 0.3996 - val_loss: 1.4140 - val_accuracy: 0.3961\n",
      "Epoch 64/200\n",
      "610/610 [==============================] - 3s 5ms/step - loss: 1.4098 - accuracy: 0.3998 - val_loss: 1.4127 - val_accuracy: 0.3961\n",
      "Epoch 65/200\n",
      "610/610 [==============================] - 3s 5ms/step - loss: 1.4085 - accuracy: 0.4001 - val_loss: 1.4115 - val_accuracy: 0.3965\n",
      "Epoch 66/200\n",
      "610/610 [==============================] - 3s 5ms/step - loss: 1.4073 - accuracy: 0.4002 - val_loss: 1.4103 - val_accuracy: 0.3967\n",
      "Epoch 67/200\n",
      "610/610 [==============================] - 3s 5ms/step - loss: 1.4062 - accuracy: 0.4002 - val_loss: 1.4091 - val_accuracy: 0.3966\n",
      "Epoch 68/200\n",
      "610/610 [==============================] - 3s 5ms/step - loss: 1.4051 - accuracy: 0.4003 - val_loss: 1.4080 - val_accuracy: 0.3966\n",
      "Epoch 69/200\n",
      "610/610 [==============================] - 3s 5ms/step - loss: 1.4040 - accuracy: 0.4005 - val_loss: 1.4070 - val_accuracy: 0.3966\n",
      "Epoch 70/200\n",
      "610/610 [==============================] - 3s 5ms/step - loss: 1.4030 - accuracy: 0.4007 - val_loss: 1.4060 - val_accuracy: 0.3963\n",
      "Epoch 71/200\n",
      "610/610 [==============================] - 3s 5ms/step - loss: 1.4020 - accuracy: 0.4007 - val_loss: 1.4050 - val_accuracy: 0.3965\n",
      "Epoch 72/200\n",
      "610/610 [==============================] - 3s 5ms/step - loss: 1.4011 - accuracy: 0.4008 - val_loss: 1.4041 - val_accuracy: 0.3966\n",
      "Epoch 73/200\n",
      "610/610 [==============================] - 3s 5ms/step - loss: 1.4002 - accuracy: 0.4010 - val_loss: 1.4032 - val_accuracy: 0.3968\n",
      "Epoch 74/200\n",
      "610/610 [==============================] - 3s 5ms/step - loss: 1.3993 - accuracy: 0.4011 - val_loss: 1.4024 - val_accuracy: 0.3967\n",
      "Epoch 75/200\n",
      "610/610 [==============================] - 3s 5ms/step - loss: 1.3985 - accuracy: 0.4012 - val_loss: 1.4016 - val_accuracy: 0.3967\n",
      "Epoch 76/200\n",
      "610/610 [==============================] - 3s 5ms/step - loss: 1.3977 - accuracy: 0.4013 - val_loss: 1.4008 - val_accuracy: 0.3971\n",
      "Epoch 77/200\n",
      "610/610 [==============================] - 3s 5ms/step - loss: 1.3969 - accuracy: 0.4014 - val_loss: 1.4000 - val_accuracy: 0.3971\n",
      "Epoch 78/200\n",
      "610/610 [==============================] - 3s 5ms/step - loss: 1.3962 - accuracy: 0.4015 - val_loss: 1.3992 - val_accuracy: 0.3971\n",
      "Epoch 79/200\n",
      "610/610 [==============================] - 3s 5ms/step - loss: 1.3955 - accuracy: 0.4016 - val_loss: 1.3985 - val_accuracy: 0.3974\n",
      "Epoch 80/200\n",
      "610/610 [==============================] - 3s 5ms/step - loss: 1.3948 - accuracy: 0.4017 - val_loss: 1.3978 - val_accuracy: 0.3975\n",
      "Epoch 81/200\n",
      "610/610 [==============================] - 3s 5ms/step - loss: 1.3941 - accuracy: 0.4017 - val_loss: 1.3971 - val_accuracy: 0.3977\n",
      "Epoch 82/200\n",
      "610/610 [==============================] - 3s 5ms/step - loss: 1.3934 - accuracy: 0.4017 - val_loss: 1.3964 - val_accuracy: 0.3975\n",
      "Epoch 83/200\n",
      "610/610 [==============================] - 3s 5ms/step - loss: 1.3928 - accuracy: 0.4018 - val_loss: 1.3958 - val_accuracy: 0.3979\n",
      "Epoch 84/200\n",
      "610/610 [==============================] - 3s 5ms/step - loss: 1.3921 - accuracy: 0.4019 - val_loss: 1.3951 - val_accuracy: 0.3980\n",
      "Epoch 85/200\n",
      "610/610 [==============================] - 3s 5ms/step - loss: 1.3915 - accuracy: 0.4021 - val_loss: 1.3945 - val_accuracy: 0.3981\n",
      "Epoch 86/200\n",
      "610/610 [==============================] - 3s 5ms/step - loss: 1.3909 - accuracy: 0.4020 - val_loss: 1.3939 - val_accuracy: 0.3982\n",
      "Epoch 87/200\n",
      "610/610 [==============================] - 3s 5ms/step - loss: 1.3903 - accuracy: 0.4023 - val_loss: 1.3933 - val_accuracy: 0.3982\n",
      "Epoch 88/200\n",
      "610/610 [==============================] - 3s 5ms/step - loss: 1.3897 - accuracy: 0.4022 - val_loss: 1.3927 - val_accuracy: 0.3981\n",
      "Epoch 89/200\n",
      "610/610 [==============================] - 3s 5ms/step - loss: 1.3892 - accuracy: 0.4024 - val_loss: 1.3922 - val_accuracy: 0.3980\n",
      "Epoch 90/200\n",
      "610/610 [==============================] - 3s 5ms/step - loss: 1.3886 - accuracy: 0.4024 - val_loss: 1.3916 - val_accuracy: 0.3981\n",
      "Epoch 91/200\n",
      "610/610 [==============================] - 3s 5ms/step - loss: 1.3881 - accuracy: 0.4025 - val_loss: 1.3910 - val_accuracy: 0.3980\n",
      "Epoch 92/200\n",
      "610/610 [==============================] - 3s 5ms/step - loss: 1.3875 - accuracy: 0.4025 - val_loss: 1.3905 - val_accuracy: 0.3982\n",
      "Epoch 93/200\n",
      "610/610 [==============================] - 3s 5ms/step - loss: 1.3870 - accuracy: 0.4025 - val_loss: 1.3900 - val_accuracy: 0.3983\n",
      "Epoch 94/200\n",
      "610/610 [==============================] - 3s 5ms/step - loss: 1.3865 - accuracy: 0.4025 - val_loss: 1.3894 - val_accuracy: 0.3982\n",
      "Epoch 95/200\n",
      "610/610 [==============================] - 3s 5ms/step - loss: 1.3860 - accuracy: 0.4026 - val_loss: 1.3889 - val_accuracy: 0.3982\n",
      "Epoch 96/200\n",
      "610/610 [==============================] - 3s 5ms/step - loss: 1.3855 - accuracy: 0.4027 - val_loss: 1.3884 - val_accuracy: 0.3982\n",
      "Epoch 97/200\n",
      "610/610 [==============================] - 3s 5ms/step - loss: 1.3850 - accuracy: 0.4027 - val_loss: 1.3879 - val_accuracy: 0.3984\n",
      "Epoch 98/200\n",
      "610/610 [==============================] - 3s 5ms/step - loss: 1.3845 - accuracy: 0.4028 - val_loss: 1.3874 - val_accuracy: 0.3982\n",
      "Epoch 99/200\n",
      "610/610 [==============================] - 3s 5ms/step - loss: 1.3840 - accuracy: 0.4028 - val_loss: 1.3869 - val_accuracy: 0.3985\n",
      "Epoch 100/200\n",
      "610/610 [==============================] - 3s 5ms/step - loss: 1.3836 - accuracy: 0.4028 - val_loss: 1.3864 - val_accuracy: 0.3987\n",
      "Epoch 101/200\n",
      "610/610 [==============================] - 3s 5ms/step - loss: 1.3831 - accuracy: 0.4031 - val_loss: 1.3860 - val_accuracy: 0.3986\n",
      "Epoch 102/200\n",
      "610/610 [==============================] - 3s 5ms/step - loss: 1.3827 - accuracy: 0.4030 - val_loss: 1.3855 - val_accuracy: 0.3988\n",
      "Epoch 103/200\n",
      "610/610 [==============================] - 3s 5ms/step - loss: 1.3822 - accuracy: 0.4030 - val_loss: 1.3850 - val_accuracy: 0.3987\n",
      "Epoch 104/200\n",
      "610/610 [==============================] - 3s 5ms/step - loss: 1.3818 - accuracy: 0.4032 - val_loss: 1.3846 - val_accuracy: 0.3990\n",
      "Epoch 105/200\n",
      "610/610 [==============================] - 3s 5ms/step - loss: 1.3813 - accuracy: 0.4034 - val_loss: 1.3841 - val_accuracy: 0.3994\n",
      "Epoch 106/200\n",
      "610/610 [==============================] - 3s 5ms/step - loss: 1.3809 - accuracy: 0.4034 - val_loss: 1.3837 - val_accuracy: 0.3994\n",
      "Epoch 107/200\n",
      "610/610 [==============================] - 3s 5ms/step - loss: 1.3805 - accuracy: 0.4035 - val_loss: 1.3833 - val_accuracy: 0.3996\n",
      "Epoch 108/200\n",
      "610/610 [==============================] - 3s 5ms/step - loss: 1.3800 - accuracy: 0.4036 - val_loss: 1.3828 - val_accuracy: 0.3996\n",
      "Epoch 109/200\n",
      "610/610 [==============================] - 3s 5ms/step - loss: 1.3796 - accuracy: 0.4038 - val_loss: 1.3824 - val_accuracy: 0.3997\n",
      "Epoch 110/200\n",
      "610/610 [==============================] - 3s 5ms/step - loss: 1.3792 - accuracy: 0.4038 - val_loss: 1.3820 - val_accuracy: 0.3998\n",
      "Epoch 111/200\n",
      "610/610 [==============================] - 3s 5ms/step - loss: 1.3788 - accuracy: 0.4039 - val_loss: 1.3816 - val_accuracy: 0.4003\n",
      "Epoch 112/200\n",
      "610/610 [==============================] - 3s 5ms/step - loss: 1.3784 - accuracy: 0.4039 - val_loss: 1.3812 - val_accuracy: 0.4004\n",
      "Epoch 113/200\n",
      "610/610 [==============================] - 3s 5ms/step - loss: 1.3780 - accuracy: 0.4040 - val_loss: 1.3807 - val_accuracy: 0.4004\n",
      "Epoch 114/200\n",
      "610/610 [==============================] - 3s 5ms/step - loss: 1.3776 - accuracy: 0.4042 - val_loss: 1.3803 - val_accuracy: 0.4004\n"
     ]
    },
    {
     "name": "stdout",
     "output_type": "stream",
     "text": [
      "Epoch 115/200\n",
      "610/610 [==============================] - 3s 5ms/step - loss: 1.3772 - accuracy: 0.4042 - val_loss: 1.3799 - val_accuracy: 0.4005\n",
      "Epoch 116/200\n",
      "610/610 [==============================] - 3s 5ms/step - loss: 1.3768 - accuracy: 0.4043 - val_loss: 1.3795 - val_accuracy: 0.4006\n",
      "Epoch 117/200\n",
      "610/610 [==============================] - 3s 5ms/step - loss: 1.3765 - accuracy: 0.4045 - val_loss: 1.3792 - val_accuracy: 0.4007\n",
      "Epoch 118/200\n",
      "610/610 [==============================] - 3s 5ms/step - loss: 1.3761 - accuracy: 0.4043 - val_loss: 1.3788 - val_accuracy: 0.4010\n",
      "Epoch 119/200\n",
      "610/610 [==============================] - 3s 5ms/step - loss: 1.3757 - accuracy: 0.4045 - val_loss: 1.3784 - val_accuracy: 0.4012\n",
      "Epoch 120/200\n",
      "610/610 [==============================] - 3s 5ms/step - loss: 1.3753 - accuracy: 0.4046 - val_loss: 1.3780 - val_accuracy: 0.4010\n",
      "Epoch 121/200\n",
      "610/610 [==============================] - 3s 5ms/step - loss: 1.3750 - accuracy: 0.4046 - val_loss: 1.3776 - val_accuracy: 0.4011\n",
      "Epoch 122/200\n",
      "610/610 [==============================] - 3s 5ms/step - loss: 1.3746 - accuracy: 0.4048 - val_loss: 1.3773 - val_accuracy: 0.4010\n",
      "Epoch 123/200\n",
      "610/610 [==============================] - 3s 5ms/step - loss: 1.3743 - accuracy: 0.4049 - val_loss: 1.3769 - val_accuracy: 0.4013\n",
      "Epoch 124/200\n",
      "610/610 [==============================] - 3s 5ms/step - loss: 1.3739 - accuracy: 0.4049 - val_loss: 1.3765 - val_accuracy: 0.4014\n",
      "Epoch 125/200\n",
      "610/610 [==============================] - 3s 5ms/step - loss: 1.3735 - accuracy: 0.4050 - val_loss: 1.3762 - val_accuracy: 0.4014\n",
      "Epoch 126/200\n",
      "610/610 [==============================] - 3s 5ms/step - loss: 1.3732 - accuracy: 0.4050 - val_loss: 1.3758 - val_accuracy: 0.4015\n",
      "Epoch 127/200\n",
      "610/610 [==============================] - 3s 5ms/step - loss: 1.3728 - accuracy: 0.4051 - val_loss: 1.3754 - val_accuracy: 0.4018\n",
      "Epoch 128/200\n",
      "610/610 [==============================] - 3s 5ms/step - loss: 1.3725 - accuracy: 0.4053 - val_loss: 1.3751 - val_accuracy: 0.4018\n",
      "Epoch 129/200\n",
      "610/610 [==============================] - 3s 5ms/step - loss: 1.3722 - accuracy: 0.4053 - val_loss: 1.3747 - val_accuracy: 0.4020\n",
      "Epoch 130/200\n",
      "610/610 [==============================] - 3s 5ms/step - loss: 1.3718 - accuracy: 0.4055 - val_loss: 1.3744 - val_accuracy: 0.4020\n",
      "Epoch 131/200\n",
      "610/610 [==============================] - 3s 5ms/step - loss: 1.3715 - accuracy: 0.4055 - val_loss: 1.3740 - val_accuracy: 0.4020\n",
      "Epoch 132/200\n",
      "610/610 [==============================] - 3s 5ms/step - loss: 1.3712 - accuracy: 0.4056 - val_loss: 1.3737 - val_accuracy: 0.4020\n",
      "Epoch 133/200\n",
      "610/610 [==============================] - 3s 5ms/step - loss: 1.3708 - accuracy: 0.4057 - val_loss: 1.3734 - val_accuracy: 0.4020\n",
      "Epoch 134/200\n",
      "610/610 [==============================] - 3s 5ms/step - loss: 1.3705 - accuracy: 0.4057 - val_loss: 1.3730 - val_accuracy: 0.4021\n",
      "Epoch 135/200\n",
      "610/610 [==============================] - 3s 5ms/step - loss: 1.3702 - accuracy: 0.4058 - val_loss: 1.3727 - val_accuracy: 0.4023\n",
      "Epoch 136/200\n",
      "610/610 [==============================] - 3s 5ms/step - loss: 1.3699 - accuracy: 0.4058 - val_loss: 1.3724 - val_accuracy: 0.4025\n",
      "Epoch 137/200\n",
      "610/610 [==============================] - 3s 5ms/step - loss: 1.3695 - accuracy: 0.4060 - val_loss: 1.3720 - val_accuracy: 0.4026\n",
      "Epoch 138/200\n",
      "610/610 [==============================] - 3s 5ms/step - loss: 1.3692 - accuracy: 0.4061 - val_loss: 1.3717 - val_accuracy: 0.4030\n",
      "Epoch 139/200\n",
      "610/610 [==============================] - 3s 5ms/step - loss: 1.3689 - accuracy: 0.4062 - val_loss: 1.3714 - val_accuracy: 0.4030\n",
      "Epoch 140/200\n",
      "610/610 [==============================] - 3s 5ms/step - loss: 1.3686 - accuracy: 0.4063 - val_loss: 1.3711 - val_accuracy: 0.4031\n",
      "Epoch 141/200\n",
      "610/610 [==============================] - 3s 5ms/step - loss: 1.3683 - accuracy: 0.4062 - val_loss: 1.3707 - val_accuracy: 0.4034\n",
      "Epoch 142/200\n",
      "610/610 [==============================] - 3s 5ms/step - loss: 1.3680 - accuracy: 0.4065 - val_loss: 1.3704 - val_accuracy: 0.4035\n",
      "Epoch 143/200\n",
      "610/610 [==============================] - 3s 5ms/step - loss: 1.3677 - accuracy: 0.4064 - val_loss: 1.3701 - val_accuracy: 0.4038\n",
      "Epoch 144/200\n",
      "610/610 [==============================] - 3s 5ms/step - loss: 1.3674 - accuracy: 0.4066 - val_loss: 1.3698 - val_accuracy: 0.4038\n",
      "Epoch 145/200\n",
      "610/610 [==============================] - 3s 5ms/step - loss: 1.3671 - accuracy: 0.4067 - val_loss: 1.3695 - val_accuracy: 0.4039\n",
      "Epoch 146/200\n",
      "610/610 [==============================] - 3s 5ms/step - loss: 1.3667 - accuracy: 0.4068 - val_loss: 1.3692 - val_accuracy: 0.4039\n",
      "Epoch 147/200\n",
      "610/610 [==============================] - 3s 5ms/step - loss: 1.3664 - accuracy: 0.4068 - val_loss: 1.3689 - val_accuracy: 0.4040\n",
      "Epoch 148/200\n",
      "610/610 [==============================] - 3s 5ms/step - loss: 1.3662 - accuracy: 0.4068 - val_loss: 1.3686 - val_accuracy: 0.4041\n",
      "Epoch 149/200\n",
      "610/610 [==============================] - 3s 5ms/step - loss: 1.3659 - accuracy: 0.4070 - val_loss: 1.3683 - val_accuracy: 0.4044\n",
      "Epoch 150/200\n",
      "610/610 [==============================] - 3s 5ms/step - loss: 1.3656 - accuracy: 0.4069 - val_loss: 1.3679 - val_accuracy: 0.4045\n",
      "Epoch 151/200\n",
      "610/610 [==============================] - 3s 5ms/step - loss: 1.3653 - accuracy: 0.4071 - val_loss: 1.3676 - val_accuracy: 0.4044\n",
      "Epoch 152/200\n",
      "610/610 [==============================] - 3s 5ms/step - loss: 1.3650 - accuracy: 0.4071 - val_loss: 1.3673 - val_accuracy: 0.4046\n",
      "Epoch 153/200\n",
      "610/610 [==============================] - 3s 5ms/step - loss: 1.3647 - accuracy: 0.4072 - val_loss: 1.3670 - val_accuracy: 0.4046\n",
      "Epoch 154/200\n",
      "610/610 [==============================] - 3s 5ms/step - loss: 1.3644 - accuracy: 0.4073 - val_loss: 1.3668 - val_accuracy: 0.4047\n",
      "Epoch 155/200\n",
      "610/610 [==============================] - 3s 5ms/step - loss: 1.3641 - accuracy: 0.4074 - val_loss: 1.3665 - val_accuracy: 0.4046\n",
      "Epoch 156/200\n",
      "610/610 [==============================] - 3s 5ms/step - loss: 1.3638 - accuracy: 0.4073 - val_loss: 1.3662 - val_accuracy: 0.4048\n",
      "Epoch 157/200\n",
      "610/610 [==============================] - 3s 5ms/step - loss: 1.3635 - accuracy: 0.4075 - val_loss: 1.3659 - val_accuracy: 0.4050\n",
      "Epoch 158/200\n",
      "610/610 [==============================] - 3s 5ms/step - loss: 1.3633 - accuracy: 0.4076 - val_loss: 1.3656 - val_accuracy: 0.4050\n",
      "Epoch 159/200\n",
      "610/610 [==============================] - 3s 5ms/step - loss: 1.3630 - accuracy: 0.4076 - val_loss: 1.3653 - val_accuracy: 0.4051\n",
      "Epoch 160/200\n",
      "610/610 [==============================] - 3s 5ms/step - loss: 1.3627 - accuracy: 0.4077 - val_loss: 1.3650 - val_accuracy: 0.4052\n",
      "Epoch 161/200\n",
      "610/610 [==============================] - 3s 5ms/step - loss: 1.3624 - accuracy: 0.4078 - val_loss: 1.3647 - val_accuracy: 0.4052\n",
      "Epoch 162/200\n",
      "610/610 [==============================] - 3s 5ms/step - loss: 1.3621 - accuracy: 0.4078 - val_loss: 1.3644 - val_accuracy: 0.4051\n",
      "Epoch 163/200\n",
      "610/610 [==============================] - 3s 5ms/step - loss: 1.3619 - accuracy: 0.4079 - val_loss: 1.3641 - val_accuracy: 0.4052\n",
      "Epoch 164/200\n",
      "610/610 [==============================] - 3s 5ms/step - loss: 1.3616 - accuracy: 0.4080 - val_loss: 1.3638 - val_accuracy: 0.4051\n",
      "Epoch 165/200\n",
      "610/610 [==============================] - 3s 5ms/step - loss: 1.3613 - accuracy: 0.4080 - val_loss: 1.3636 - val_accuracy: 0.4052\n",
      "Epoch 166/200\n",
      "610/610 [==============================] - 3s 5ms/step - loss: 1.3610 - accuracy: 0.4081 - val_loss: 1.3633 - val_accuracy: 0.4054\n",
      "Epoch 167/200\n",
      "610/610 [==============================] - 3s 5ms/step - loss: 1.3607 - accuracy: 0.4082 - val_loss: 1.3630 - val_accuracy: 0.4055\n",
      "Epoch 168/200\n",
      "610/610 [==============================] - 3s 5ms/step - loss: 1.3605 - accuracy: 0.4083 - val_loss: 1.3627 - val_accuracy: 0.4055\n",
      "Epoch 169/200\n",
      "610/610 [==============================] - 3s 5ms/step - loss: 1.3602 - accuracy: 0.4084 - val_loss: 1.3624 - val_accuracy: 0.4058\n",
      "Epoch 170/200\n",
      "610/610 [==============================] - 3s 5ms/step - loss: 1.3599 - accuracy: 0.4084 - val_loss: 1.3621 - val_accuracy: 0.4059\n",
      "Epoch 171/200\n",
      "610/610 [==============================] - 3s 5ms/step - loss: 1.3596 - accuracy: 0.4086 - val_loss: 1.3618 - val_accuracy: 0.4061\n",
      "Epoch 172/200\n",
      "610/610 [==============================] - 3s 5ms/step - loss: 1.3593 - accuracy: 0.4087 - val_loss: 1.3616 - val_accuracy: 0.4061\n",
      "Epoch 173/200\n",
      "610/610 [==============================] - 3s 5ms/step - loss: 1.3591 - accuracy: 0.4086 - val_loss: 1.3613 - val_accuracy: 0.4062\n",
      "Epoch 174/200\n",
      "610/610 [==============================] - 3s 5ms/step - loss: 1.3588 - accuracy: 0.4088 - val_loss: 1.3610 - val_accuracy: 0.4065\n",
      "Epoch 175/200\n",
      "610/610 [==============================] - 3s 5ms/step - loss: 1.3585 - accuracy: 0.4087 - val_loss: 1.3607 - val_accuracy: 0.4064\n",
      "Epoch 176/200\n",
      "610/610 [==============================] - 3s 5ms/step - loss: 1.3582 - accuracy: 0.4088 - val_loss: 1.3604 - val_accuracy: 0.4066\n",
      "Epoch 177/200\n",
      "610/610 [==============================] - 3s 5ms/step - loss: 1.3580 - accuracy: 0.4088 - val_loss: 1.3601 - val_accuracy: 0.4067\n",
      "Epoch 178/200\n",
      "610/610 [==============================] - 3s 5ms/step - loss: 1.3577 - accuracy: 0.4089 - val_loss: 1.3598 - val_accuracy: 0.4069\n",
      "Epoch 179/200\n",
      "610/610 [==============================] - 3s 5ms/step - loss: 1.3574 - accuracy: 0.4089 - val_loss: 1.3596 - val_accuracy: 0.4069\n",
      "Epoch 180/200\n",
      "610/610 [==============================] - 3s 5ms/step - loss: 1.3571 - accuracy: 0.4089 - val_loss: 1.3593 - val_accuracy: 0.4073\n",
      "Epoch 181/200\n",
      "610/610 [==============================] - 3s 5ms/step - loss: 1.3568 - accuracy: 0.4091 - val_loss: 1.3590 - val_accuracy: 0.4074\n",
      "Epoch 182/200\n",
      "610/610 [==============================] - 3s 5ms/step - loss: 1.3565 - accuracy: 0.4092 - val_loss: 1.3587 - val_accuracy: 0.4076\n",
      "Epoch 183/200\n",
      "610/610 [==============================] - 3s 5ms/step - loss: 1.3563 - accuracy: 0.4092 - val_loss: 1.3584 - val_accuracy: 0.4076\n",
      "Epoch 184/200\n",
      "610/610 [==============================] - 3s 5ms/step - loss: 1.3560 - accuracy: 0.4093 - val_loss: 1.3581 - val_accuracy: 0.4078\n",
      "Epoch 185/200\n",
      "610/610 [==============================] - 3s 5ms/step - loss: 1.3557 - accuracy: 0.4094 - val_loss: 1.3579 - val_accuracy: 0.4077\n",
      "Epoch 186/200\n",
      "610/610 [==============================] - 3s 5ms/step - loss: 1.3554 - accuracy: 0.4094 - val_loss: 1.3576 - val_accuracy: 0.4078\n",
      "Epoch 187/200\n",
      "610/610 [==============================] - 3s 5ms/step - loss: 1.3551 - accuracy: 0.4094 - val_loss: 1.3573 - val_accuracy: 0.4078\n",
      "Epoch 188/200\n",
      "610/610 [==============================] - 3s 5ms/step - loss: 1.3549 - accuracy: 0.4095 - val_loss: 1.3570 - val_accuracy: 0.4079\n",
      "Epoch 189/200\n",
      "610/610 [==============================] - 3s 5ms/step - loss: 1.3546 - accuracy: 0.4095 - val_loss: 1.3567 - val_accuracy: 0.4079\n",
      "Epoch 190/200\n",
      "610/610 [==============================] - 3s 5ms/step - loss: 1.3543 - accuracy: 0.4096 - val_loss: 1.3565 - val_accuracy: 0.4076\n",
      "Epoch 191/200\n",
      "610/610 [==============================] - 3s 5ms/step - loss: 1.3541 - accuracy: 0.4096 - val_loss: 1.3562 - val_accuracy: 0.4078\n",
      "Epoch 192/200\n",
      "610/610 [==============================] - 3s 5ms/step - loss: 1.3538 - accuracy: 0.4098 - val_loss: 1.3559 - val_accuracy: 0.4079\n",
      "Epoch 193/200\n",
      "610/610 [==============================] - 3s 5ms/step - loss: 1.3535 - accuracy: 0.4098 - val_loss: 1.3557 - val_accuracy: 0.4082\n",
      "Epoch 194/200\n",
      "610/610 [==============================] - 3s 5ms/step - loss: 1.3533 - accuracy: 0.4100 - val_loss: 1.3554 - val_accuracy: 0.4082\n",
      "Epoch 195/200\n",
      "610/610 [==============================] - 3s 5ms/step - loss: 1.3530 - accuracy: 0.4099 - val_loss: 1.3551 - val_accuracy: 0.4083\n",
      "Epoch 196/200\n",
      "610/610 [==============================] - 3s 5ms/step - loss: 1.3528 - accuracy: 0.4101 - val_loss: 1.3549 - val_accuracy: 0.4084\n",
      "Epoch 197/200\n",
      "610/610 [==============================] - 3s 5ms/step - loss: 1.3525 - accuracy: 0.4101 - val_loss: 1.3546 - val_accuracy: 0.4086\n",
      "Epoch 198/200\n",
      "610/610 [==============================] - 3s 5ms/step - loss: 1.3523 - accuracy: 0.4101 - val_loss: 1.3544 - val_accuracy: 0.4086\n",
      "Epoch 199/200\n",
      "610/610 [==============================] - 3s 5ms/step - loss: 1.3520 - accuracy: 0.4102 - val_loss: 1.3541 - val_accuracy: 0.4086\n",
      "Epoch 200/200\n",
      "610/610 [==============================] - 3s 5ms/step - loss: 1.3518 - accuracy: 0.4102 - val_loss: 1.3539 - val_accuracy: 0.4087\n"
     ]
    }
   ],
   "source": [
    "#Imports Tensorflow and Keras for training a neural network\n",
    "import tensorflow as tf\n",
    "\n",
    "from tensorflow import keras\n",
    "from sklearn.metrics import mean_squared_error\n",
    "\n",
    "#Defines NN as the neural network with the listed parameters\n",
    "NN = keras.models.Sequential([\n",
    "    keras.layers.Dense(30, activation = \"relu\"),\n",
    "    keras.layers.Dense(300, activation = \"relu\"),\n",
    "    keras.layers.Dense(300, activation = \"relu\"),\n",
    "    keras.layers.Dense(300, activation = \"relu\"),\n",
    "    keras.layers.Dense(30, activation = \"relu\"),\n",
    "    keras.layers.Dense(8, activation = \"softmax\")\n",
    "])\n",
    "\n",
    "#Compiles and runs the above neural network with the defined hyperparameters (!This may take a while to run)\n",
    "NN.compile(loss = \"sparse_categorical_crossentropy\", optimizer = keras.optimizers.SGD(lr=0.0001), metrics=[\"accuracy\"])\n",
    "history = NN.fit(train_wind_prepared, train_set[\"windcat\"], epochs = 200, \n",
    "                 batch_size = 512,\n",
    "                   validation_data = (validation_wind_prepared, validation_set[\"windcat\"]))"
   ]
  },
  {
   "cell_type": "code",
   "execution_count": 32,
   "id": "b58f21a9",
   "metadata": {},
   "outputs": [
    {
     "name": "stdout",
     "output_type": "stream",
     "text": [
      "9757/9757 [==============================] - 7s 682us/step - loss: 1.3516 - accuracy: 0.4103\n"
     ]
    },
    {
     "data": {
      "text/plain": [
       "[1.3516491651535034, 0.4103028178215027]"
      ]
     },
     "execution_count": 32,
     "metadata": {},
     "output_type": "execute_result"
    }
   ],
   "source": [
    "#Train set predictions accuracy\n",
    "NN.evaluate(train_wind_prepared, train_set[\"windcat\"])"
   ]
  },
  {
   "cell_type": "code",
   "execution_count": 33,
   "id": "4bfbaf3e",
   "metadata": {},
   "outputs": [
    {
     "name": "stdout",
     "output_type": "stream",
     "text": [
      "1205/1205 [==============================] - 1s 688us/step - loss: 1.3540 - accuracy: 0.4091\n"
     ]
    },
    {
     "data": {
      "text/plain": [
       "[1.3539539575576782, 0.40909090638160706]"
      ]
     },
     "execution_count": 33,
     "metadata": {},
     "output_type": "execute_result"
    }
   ],
   "source": [
    "#Test set prediction accuracy\n",
    "NN.evaluate(test_wind_prepared, test_set[\"windcat\"])"
   ]
  },
  {
   "cell_type": "code",
   "execution_count": 34,
   "id": "5f7167b9",
   "metadata": {},
   "outputs": [
    {
     "data": {
      "image/png": "[encoded data removed]",
      "text/plain": [
       "<Figure size 1152x360 with 1 Axes>"
      ]
     },
     "metadata": {
      "needs_background": "light"
     },
     "output_type": "display_data"
    }
   ],
   "source": [
    "pd.DataFrame(history.history).plot(figsize=(16,5))\n",
    "plt.grid(True)\n",
    "plt.gca().set_ylim(0,2)\n",
    "plt.show()"
   ]
  },
  {
   "cell_type": "code",
   "execution_count": 37,
   "id": "fdf6d09c",
   "metadata": {},
   "outputs": [],
   "source": [
    "        #4)\tThere’s a substantial difference between the RMSE for train and test predictions in the decision tree model. \n",
    "        #What do you think that indicates about the relationship between the model and the data? \n",
    "        #Why would the train RMSE be so much lower? "
   ]
  },
  {
   "cell_type": "code",
   "execution_count": 38,
   "id": "d605f440",
   "metadata": {},
   "outputs": [
    {
     "name": "stdout",
     "output_type": "stream",
     "text": [
      "{'max_depth': [10, 109, 208, 307, 406, 505, 604, 703, 802, 901, 1000, None],\n",
      " 'max_features': ['auto', 'sqrt'],\n",
      " 'min_samples_leaf': [1, 3, 5, 7, 9, 11, 13, 15, 17, 20],\n",
      " 'min_samples_split': [2, 24, 46, 68, 90, 112, 134, 156, 178, 200]}\n"
     ]
    }
   ],
   "source": [
    "from sklearn.model_selection import RandomizedSearchCV\n",
    "from pprint import pprint\n",
    "\n",
    "## Number of trees in random forest\n",
    "n_estimators = [int(x) for x in np.linspace(start = 200, stop = 2000, num = 10)]\n",
    "## Number of features to consider at every split\n",
    "max_features = ['auto', 'sqrt']\n",
    "## Maximum number of levels in tree\n",
    "max_depth = [int(x) for x in np.linspace(10, 1000, num = 11)]\n",
    "max_depth.append(None)\n",
    "## Minimum number of samples required to split a node\n",
    "min_samples_split = [int(x) for x in np.linspace(start = 2, stop = 200, num = 10)]\n",
    "## Minimum number of samples required at each leaf node\n",
    "min_samples_leaf = [int(x) for x in np.linspace(start = 1, stop = 20, num = 10)]\n",
    "## Method of selecting samples for training each tree\n",
    "bootstrap = [True, False]\n",
    "## Create the random grid\n",
    "random_grid = {'max_features': max_features,\n",
    "               'max_depth': max_depth,\n",
    "               'min_samples_split': min_samples_split,\n",
    "               'min_samples_leaf': min_samples_leaf}\n",
    "pprint(random_grid)"
   ]
  },
  {
   "cell_type": "code",
   "execution_count": 39,
   "id": "b7131486",
   "metadata": {},
   "outputs": [
    {
     "name": "stdout",
     "output_type": "stream",
     "text": [
      "Fitting 3 folds for each of 300 candidates, totalling 900 fits\n"
     ]
    },
    {
     "data": {
      "text/plain": [
       "RandomizedSearchCV(cv=3,\n",
       "                   estimator=RandomForestClassifier(max_depth=150,\n",
       "                                                    n_estimators=200, n_jobs=8,\n",
       "                                                    random_state=42),\n",
       "                   n_iter=300, n_jobs=4,\n",
       "                   param_distributions={'max_depth': [10, 109, 208, 307, 406,\n",
       "                                                      505, 604, 703, 802, 901,\n",
       "                                                      1000, None],\n",
       "                                        'max_features': ['auto', 'sqrt'],\n",
       "                                        'min_samples_leaf': [1, 3, 5, 7, 9, 11,\n",
       "                                                             13, 15, 17, 20],\n",
       "                                        'min_samples_split': [2, 24, 46, 68, 90,\n",
       "                                                              112, 134, 156,\n",
       "                                                              178, 200]},\n",
       "                   random_state=42, verbose=1)"
      ]
     },
     "execution_count": 39,
     "metadata": {},
     "output_type": "execute_result"
    }
   ],
   "source": [
    "#Using the above random grid this will search for the optimal configuration of hyperparameters \n",
    "#(!This will take a long time to run)\n",
    "random_trees = RandomizedSearchCV(estimator = forest_reg, param_distributions = random_grid, n_iter = 300, cv = 3, verbose=1, random_state=42, n_jobs = 4)\n",
    "random_trees.fit(train_wind_prepared, train_set[\"windcat\"])"
   ]
  },
  {
   "cell_type": "code",
   "execution_count": 40,
   "id": "f9ceb7fc",
   "metadata": {},
   "outputs": [
    {
     "data": {
      "text/plain": [
       "{'min_samples_split': 2,\n",
       " 'min_samples_leaf': 1,\n",
       " 'max_features': 'sqrt',\n",
       " 'max_depth': 406}"
      ]
     },
     "execution_count": 40,
     "metadata": {},
     "output_type": "execute_result"
    }
   ],
   "source": [
    "#Prints the optimal parameters found using gridsearch.\n",
    "random_trees.best_params_"
   ]
  },
  {
   "cell_type": "code",
   "execution_count": 41,
   "id": "19ee2cbd",
   "metadata": {},
   "outputs": [
    {
     "data": {
      "text/plain": [
       "array([0.07131818, 0.04096877, 0.08670834, 0.04187196, 0.00941857,\n",
       "       0.02831532, 0.02628383, 0.02534669, 0.03134171, 0.02855858,\n",
       "       0.02539856, 0.03015175, 0.0716848 , 0.07233402, 0.00556202,\n",
       "       0.07610629, 0.13368792, 0.09126404, 0.07055106, 0.03312759])"
      ]
     },
     "execution_count": 41,
     "metadata": {},
     "output_type": "execute_result"
    }
   ],
   "source": [
    "forest_reg.feature_importances_"
   ]
  },
  {
   "cell_type": "code",
   "execution_count": 42,
   "id": "c651be72",
   "metadata": {},
   "outputs": [
    {
     "data": {
      "image/png": "[encoded data removed]",
      "text/plain": [
       "<Figure size 864x432 with 1 Axes>"
      ]
     },
     "metadata": {
      "needs_background": "light"
     },
     "output_type": "display_data"
    }
   ],
   "source": [
    "fig = plt.figure(figsize=(12, 6))\n",
    "ax = fig.add_axes([0,0,1,1])\n",
    "\n",
    "ax.barh(num_attribs, forest_reg.feature_importances_)\n",
    "plt.show()"
   ]
  },
  {
   "cell_type": "code",
   "execution_count": 43,
   "id": "a3639dec",
   "metadata": {},
   "outputs": [],
   "source": [
    "#Imports pandas and numpy for use later on\n",
    "import pandas as pd\n",
    "import numpy as np\n",
    "\n",
    "#Imports our dataset from the CSV file Wind.CSV as \"wind\"\n",
    "wind = pd.read_csv(\"Wind.csv\")"
   ]
  },
  {
   "cell_type": "code",
   "execution_count": 44,
   "id": "fd010507",
   "metadata": {},
   "outputs": [
    {
     "data": {
      "text/html": [
       "<div>\n",
       "<style scoped>\n",
       "    .dataframe tbody tr th:only-of-type {\n",
       "        vertical-align: middle;\n",
       "    }\n",
       "\n",
       "    .dataframe tbody tr th {\n",
       "        vertical-align: top;\n",
       "    }\n",
       "\n",
       "    .dataframe thead th {\n",
       "        text-align: right;\n",
       "    }\n",
       "</style>\n",
       "<table border=\"1\" class=\"dataframe\">\n",
       "  <thead>\n",
       "    <tr style=\"text-align: right;\">\n",
       "      <th></th>\n",
       "      <th>Year</th>\n",
       "      <th>Month</th>\n",
       "      <th>Day</th>\n",
       "      <th>Hour</th>\n",
       "      <th>Minute</th>\n",
       "      <th>DHI</th>\n",
       "      <th>DNI</th>\n",
       "      <th>GHI</th>\n",
       "      <th>Clearsky DHI</th>\n",
       "      <th>Clearsky DNI</th>\n",
       "      <th>...</th>\n",
       "      <th>Solar Zenith Angle</th>\n",
       "      <th>Fill Flag</th>\n",
       "      <th>Surface Albedo</th>\n",
       "      <th>Wind Speed</th>\n",
       "      <th>Wind Direction</th>\n",
       "      <th>Relative Humidity</th>\n",
       "      <th>Temperature</th>\n",
       "      <th>Pressure</th>\n",
       "      <th>WindForce</th>\n",
       "      <th>date</th>\n",
       "    </tr>\n",
       "  </thead>\n",
       "  <tbody>\n",
       "    <tr>\n",
       "      <th>0</th>\n",
       "      <td>1998</td>\n",
       "      <td>1</td>\n",
       "      <td>1</td>\n",
       "      <td>0</td>\n",
       "      <td>0</td>\n",
       "      <td>0</td>\n",
       "      <td>0</td>\n",
       "      <td>0</td>\n",
       "      <td>0</td>\n",
       "      <td>0</td>\n",
       "      <td>...</td>\n",
       "      <td>161.94</td>\n",
       "      <td>0</td>\n",
       "      <td>0.16</td>\n",
       "      <td>4.7</td>\n",
       "      <td>207.2</td>\n",
       "      <td>92.94</td>\n",
       "      <td>-1.0</td>\n",
       "      <td>910</td>\n",
       "      <td>Gentle Breeze</td>\n",
       "      <td>1998-01-01 00:00:00</td>\n",
       "    </tr>\n",
       "    <tr>\n",
       "      <th>1</th>\n",
       "      <td>1998</td>\n",
       "      <td>1</td>\n",
       "      <td>1</td>\n",
       "      <td>0</td>\n",
       "      <td>30</td>\n",
       "      <td>0</td>\n",
       "      <td>0</td>\n",
       "      <td>0</td>\n",
       "      <td>0</td>\n",
       "      <td>0</td>\n",
       "      <td>...</td>\n",
       "      <td>164.56</td>\n",
       "      <td>0</td>\n",
       "      <td>0.16</td>\n",
       "      <td>4.6</td>\n",
       "      <td>207.2</td>\n",
       "      <td>92.92</td>\n",
       "      <td>-1.0</td>\n",
       "      <td>910</td>\n",
       "      <td>Gentle Breeze</td>\n",
       "      <td>1998-01-01 00:30:00</td>\n",
       "    </tr>\n",
       "    <tr>\n",
       "      <th>2</th>\n",
       "      <td>1998</td>\n",
       "      <td>1</td>\n",
       "      <td>1</td>\n",
       "      <td>1</td>\n",
       "      <td>0</td>\n",
       "      <td>0</td>\n",
       "      <td>0</td>\n",
       "      <td>0</td>\n",
       "      <td>0</td>\n",
       "      <td>0</td>\n",
       "      <td>...</td>\n",
       "      <td>164.74</td>\n",
       "      <td>0</td>\n",
       "      <td>0.16</td>\n",
       "      <td>4.5</td>\n",
       "      <td>212.2</td>\n",
       "      <td>92.43</td>\n",
       "      <td>-1.0</td>\n",
       "      <td>910</td>\n",
       "      <td>Gentle Breeze</td>\n",
       "      <td>1998-01-01 01:00:00</td>\n",
       "    </tr>\n",
       "    <tr>\n",
       "      <th>3</th>\n",
       "      <td>1998</td>\n",
       "      <td>1</td>\n",
       "      <td>1</td>\n",
       "      <td>1</td>\n",
       "      <td>30</td>\n",
       "      <td>0</td>\n",
       "      <td>0</td>\n",
       "      <td>0</td>\n",
       "      <td>0</td>\n",
       "      <td>0</td>\n",
       "      <td>...</td>\n",
       "      <td>162.40</td>\n",
       "      <td>0</td>\n",
       "      <td>0.16</td>\n",
       "      <td>4.4</td>\n",
       "      <td>212.2</td>\n",
       "      <td>92.41</td>\n",
       "      <td>-1.0</td>\n",
       "      <td>910</td>\n",
       "      <td>Gentle Breeze</td>\n",
       "      <td>1998-01-01 01:30:00</td>\n",
       "    </tr>\n",
       "    <tr>\n",
       "      <th>4</th>\n",
       "      <td>1998</td>\n",
       "      <td>1</td>\n",
       "      <td>1</td>\n",
       "      <td>2</td>\n",
       "      <td>0</td>\n",
       "      <td>0</td>\n",
       "      <td>0</td>\n",
       "      <td>0</td>\n",
       "      <td>0</td>\n",
       "      <td>0</td>\n",
       "      <td>...</td>\n",
       "      <td>158.35</td>\n",
       "      <td>0</td>\n",
       "      <td>0.16</td>\n",
       "      <td>4.3</td>\n",
       "      <td>218.9</td>\n",
       "      <td>91.88</td>\n",
       "      <td>-1.0</td>\n",
       "      <td>910</td>\n",
       "      <td>Gentle Breeze</td>\n",
       "      <td>1998-01-01 02:00:00</td>\n",
       "    </tr>\n",
       "  </tbody>\n",
       "</table>\n",
       "<p>5 rows × 23 columns</p>\n",
       "</div>"
      ],
      "text/plain": [
       "   Year  Month  Day  Hour  Minute  DHI  DNI  GHI  Clearsky DHI  Clearsky DNI  \\\n",
       "0  1998      1    1     0       0    0    0    0             0             0   \n",
       "1  1998      1    1     0      30    0    0    0             0             0   \n",
       "2  1998      1    1     1       0    0    0    0             0             0   \n",
       "3  1998      1    1     1      30    0    0    0             0             0   \n",
       "4  1998      1    1     2       0    0    0    0             0             0   \n",
       "\n",
       "   ...  Solar Zenith Angle  Fill Flag  Surface Albedo  Wind Speed  \\\n",
       "0  ...              161.94          0            0.16         4.7   \n",
       "1  ...              164.56          0            0.16         4.6   \n",
       "2  ...              164.74          0            0.16         4.5   \n",
       "3  ...              162.40          0            0.16         4.4   \n",
       "4  ...              158.35          0            0.16         4.3   \n",
       "\n",
       "   Wind Direction  Relative Humidity  Temperature  Pressure      WindForce  \\\n",
       "0           207.2              92.94         -1.0       910  Gentle Breeze   \n",
       "1           207.2              92.92         -1.0       910  Gentle Breeze   \n",
       "2           212.2              92.43         -1.0       910  Gentle Breeze   \n",
       "3           212.2              92.41         -1.0       910  Gentle Breeze   \n",
       "4           218.9              91.88         -1.0       910  Gentle Breeze   \n",
       "\n",
       "                 date  \n",
       "0 1998-01-01 00:00:00  \n",
       "1 1998-01-01 00:30:00  \n",
       "2 1998-01-01 01:00:00  \n",
       "3 1998-01-01 01:30:00  \n",
       "4 1998-01-01 02:00:00  \n",
       "\n",
       "[5 rows x 23 columns]"
      ]
     },
     "execution_count": 44,
     "metadata": {},
     "output_type": "execute_result"
    }
   ],
   "source": [
    "import datetime #for use below\n",
    "\n",
    "#Combines the values of year, month, day, hour, and minute to produce a single representative variable named \"date\"\n",
    "wind['date'] = pd.to_datetime(wind[[\"Year\", \"Month\", \"Day\", \"Hour\", \"Minute\"]])\n",
    "wind.head()"
   ]
  },
  {
   "cell_type": "code",
   "execution_count": 45,
   "id": "650941d7",
   "metadata": {},
   "outputs": [
    {
     "data": {
      "text/html": [
       "<div>\n",
       "<style scoped>\n",
       "    .dataframe tbody tr th:only-of-type {\n",
       "        vertical-align: middle;\n",
       "    }\n",
       "\n",
       "    .dataframe tbody tr th {\n",
       "        vertical-align: top;\n",
       "    }\n",
       "\n",
       "    .dataframe thead th {\n",
       "        text-align: right;\n",
       "    }\n",
       "</style>\n",
       "<table border=\"1\" class=\"dataframe\">\n",
       "  <thead>\n",
       "    <tr style=\"text-align: right;\">\n",
       "      <th></th>\n",
       "      <th>WindForce</th>\n",
       "    </tr>\n",
       "  </thead>\n",
       "  <tbody>\n",
       "    <tr>\n",
       "      <th>0</th>\n",
       "      <td>Gentle Breeze</td>\n",
       "    </tr>\n",
       "    <tr>\n",
       "      <th>1</th>\n",
       "      <td>Gentle Breeze</td>\n",
       "    </tr>\n",
       "    <tr>\n",
       "      <th>2</th>\n",
       "      <td>Gentle Breeze</td>\n",
       "    </tr>\n",
       "    <tr>\n",
       "      <th>3</th>\n",
       "      <td>Gentle Breeze</td>\n",
       "    </tr>\n",
       "    <tr>\n",
       "      <th>4</th>\n",
       "      <td>Gentle Breeze</td>\n",
       "    </tr>\n",
       "    <tr>\n",
       "      <th>5</th>\n",
       "      <td>Gentle Breeze</td>\n",
       "    </tr>\n",
       "    <tr>\n",
       "      <th>6</th>\n",
       "      <td>Gentle Breeze</td>\n",
       "    </tr>\n",
       "    <tr>\n",
       "      <th>7</th>\n",
       "      <td>Gentle Breeze</td>\n",
       "    </tr>\n",
       "    <tr>\n",
       "      <th>8</th>\n",
       "      <td>Light Breeze</td>\n",
       "    </tr>\n",
       "    <tr>\n",
       "      <th>9</th>\n",
       "      <td>Light Breeze</td>\n",
       "    </tr>\n",
       "  </tbody>\n",
       "</table>\n",
       "</div>"
      ],
      "text/plain": [
       "       WindForce\n",
       "0  Gentle Breeze\n",
       "1  Gentle Breeze\n",
       "2  Gentle Breeze\n",
       "3  Gentle Breeze\n",
       "4  Gentle Breeze\n",
       "5  Gentle Breeze\n",
       "6  Gentle Breeze\n",
       "7  Gentle Breeze\n",
       "8   Light Breeze\n",
       "9   Light Breeze"
      ]
     },
     "execution_count": 45,
     "metadata": {},
     "output_type": "execute_result"
    }
   ],
   "source": [
    "#Defines windforce as wind_cat, look at first few lines\n",
    "wind_cat = wind[[\"WindForce\"]]\n",
    "wind_cat.head(10)"
   ]
  },
  {
   "cell_type": "code",
   "execution_count": 46,
   "id": "098391fb",
   "metadata": {},
   "outputs": [],
   "source": [
    "#Import ordinal encoder and rename as encoder for ease of use\n",
    "from sklearn.preprocessing import OrdinalEncoder\n",
    "\n",
    "encoder = OrdinalEncoder()\n",
    "\n",
    "#When calling wind_cat_encoded we use the ordinal encoder to numerically encode the categorical variables\n",
    "wind_cat_encoded = encoder.fit_transform(wind_cat)\n",
    "wind['windcat'] = wind_cat_encoded"
   ]
  },
  {
   "cell_type": "code",
   "execution_count": 47,
   "id": "d9a1c090",
   "metadata": {},
   "outputs": [],
   "source": [
    "%matplotlib inline\n",
    "import matplotlib.pyplot as plt #for later use\n",
    "\n",
    "from sklearn.model_selection import train_test_split\n",
    "\n",
    "#Splits the data into a train and test set\n",
    "train_set, test_set = train_test_split(wind, test_size=0.1, random_state=42)"
   ]
  },
  {
   "cell_type": "code",
   "execution_count": 48,
   "id": "a2d5dcc8",
   "metadata": {},
   "outputs": [
    {
     "data": {
      "text/plain": [
       "SimpleImputer()"
      ]
     },
     "execution_count": 48,
     "metadata": {},
     "output_type": "execute_result"
    }
   ],
   "source": [
    "imputer = SimpleImputer(strategy=\"mean\")\n",
    "\n",
    "wind_num = wind.drop([\"WindForce\", \"Wind Speed\", \"date\", \"Minute\", #\"Clearsky DHI\", \"Clearsky DNI\", \"Clearsky GHI\"\n",
    "                          #, \"Year\", \"Day\",\"GHI\", \"DHI\", \"DNI\", \"Hour\", \"Cloud Type\", \"Month\",\n",
    "                        \"Fill Flag\", \"windcat\"\n",
    "                         ], axis = 1)\n",
    "\n",
    "imputer.fit(wind_num)"
   ]
  },
  {
   "cell_type": "code",
   "execution_count": 49,
   "id": "91b84c9b",
   "metadata": {},
   "outputs": [],
   "source": [
    "from sklearn.pipeline import Pipeline\n",
    "from sklearn.preprocessing import StandardScaler\n",
    "\n",
    "#Defines the imputer strategy and scaler method used to transform our numerical variables\n",
    "num_pipeline = Pipeline([\n",
    "        ('imputer', SimpleImputer(strategy=\"mean\")),('std_scaler',StandardScaler())\n",
    "#        ('attribs_adder', CombinedAttributesAdder()),\n",
    "    ])"
   ]
  },
  {
   "cell_type": "code",
   "execution_count": 50,
   "id": "7b9e128c",
   "metadata": {},
   "outputs": [],
   "source": [
    "from sklearn.preprocessing import OneHotEncoder\n",
    "\n",
    "from sklearn.compose import ColumnTransformer\n",
    "\n",
    "#Defines numerical and categorical attributes \n",
    "num_attribs = list(wind_num)\n",
    "cat_attribs = []\n",
    "\n",
    "#Defines our full pipeline as the combination of the above numerical and categorical pipelines\n",
    "full_pipeline = ColumnTransformer([\n",
    "        (\"num\", num_pipeline, num_attribs),\n",
    "        (\"cat\", OneHotEncoder(), cat_attribs),\n",
    "    ])\n",
    "\n",
    "#Calls pipeline to transform our train and test datasets according to the above specifications\n",
    "wind_prepared = full_pipeline.fit_transform(train_set)\n",
    "test_wind_prepared = full_pipeline.fit_transform(test_set)"
   ]
  },
  {
   "cell_type": "code",
   "execution_count": 51,
   "id": "467fbcd1",
   "metadata": {},
   "outputs": [
    {
     "data": {
      "text/plain": [
       "RandomForestClassifier(max_depth=406, n_estimators=200, n_jobs=8,\n",
       "                       random_state=42)"
      ]
     },
     "execution_count": 51,
     "metadata": {},
     "output_type": "execute_result"
    }
   ],
   "source": [
    "#Imports random forest model for training\n",
    "from sklearn.metrics import mean_squared_error\n",
    "from sklearn.ensemble import RandomForestClassifier\n",
    "\n",
    "#Defines forest_reg as a randomforest classifier with the listed parameters\n",
    "forest_reg = RandomForestClassifier(\n",
    "    n_estimators=200, \n",
    "    n_jobs = 8, \n",
    "    random_state=42, \n",
    "    max_depth= 406, \n",
    "    min_samples_leaf = 1, \n",
    "    min_samples_split = 2\n",
    ")\n",
    "\n",
    "#Calls forest_reg to fit the wind data making predictions on \"DHI\" - We'll keep using train_wind_prepared from the NN\n",
    "forest_reg.fit(wind_prepared, train_set[\"windcat\"])"
   ]
  },
  {
   "cell_type": "code",
   "execution_count": 52,
   "id": "fd1e08da",
   "metadata": {},
   "outputs": [
    {
     "data": {
      "text/plain": [
       "0.0"
      ]
     },
     "execution_count": 52,
     "metadata": {},
     "output_type": "execute_result"
    }
   ],
   "source": [
    "#Train set predictions RMSE\n",
    "\n",
    "wind_predictions = forest_reg.predict(wind_prepared)\n",
    "test_wind_predictions = forest_reg.predict(test_wind_prepared)\n",
    "forest_mse = mean_squared_error(train_set[\"windcat\"], wind_predictions)\n",
    "forest_rmse = np.sqrt(forest_mse)\n",
    "forest_rmse"
   ]
  },
  {
   "cell_type": "code",
   "execution_count": 53,
   "id": "e347f0f2",
   "metadata": {},
   "outputs": [
    {
     "data": {
      "text/plain": [
       "0.9432859025226037"
      ]
     },
     "execution_count": 53,
     "metadata": {},
     "output_type": "execute_result"
    }
   ],
   "source": [
    "#Test set predictions RMSE\n",
    "\n",
    "forest_mse = mean_squared_error(test_set[\"windcat\"], test_wind_predictions)\n",
    "forest_rmse = np.sqrt(forest_mse)\n",
    "forest_rmse"
   ]
  },
  {
   "cell_type": "code",
   "execution_count": 54,
   "id": "23cd40d0",
   "metadata": {},
   "outputs": [
    {
     "data": {
      "image/png": "[encoded data removed]",
      "text/plain": [
       "<Figure size 864x432 with 1 Axes>"
      ]
     },
     "metadata": {
      "needs_background": "light"
     },
     "output_type": "display_data"
    },
    {
     "data": {
      "image/png": "[encoded data removed]",
      "text/plain": [
       "<Figure size 864x432 with 1 Axes>"
      ]
     },
     "metadata": {
      "needs_background": "light"
     },
     "output_type": "display_data"
    },
    {
     "data": {
      "image/png": "[encoded data removed]",
      "text/plain": [
       "<Figure size 864x432 with 1 Axes>"
      ]
     },
     "metadata": {
      "needs_background": "light"
     },
     "output_type": "display_data"
    },
    {
     "data": {
      "image/png": "[encoded data removed]",
      "text/plain": [
       "<Figure size 864x432 with 1 Axes>"
      ]
     },
     "metadata": {
      "needs_background": "light"
     },
     "output_type": "display_data"
    }
   ],
   "source": [
    "plt.figure(figsize=(12, 6))\n",
    "plt.plot(train_set['date'], train_set['windcat'], 'o')           # scatter plot showing actual data\n",
    "plt.plot(train_set['date'], wind_predictions, '.')   # regression line\n",
    "plt.xlabel('Date')\n",
    "plt.ylabel('WindForce')\n",
    "plt.title('WindForce VS Tree Predictions')\n",
    "\n",
    "plt.xlim([datetime.date(2000,1,1), datetime.date(2000,1,5)])\n",
    "\n",
    "plt.show()\n",
    "\n",
    "\n",
    "plt.figure(figsize=(12, 6))\n",
    "plt.plot(train_set['date'], train_set['windcat'], 'o')           # scatter plot showing actual data\n",
    "plt.plot(train_set['date'], wind_predictions, '.')   # regression line\n",
    "plt.xlabel('Date')\n",
    "plt.ylabel('WindForce')\n",
    "plt.title('WindForce VS Tree Predictions')\n",
    "\n",
    "plt.xlim([datetime.date(2000,1,1), datetime.date(2001,1,1)])\n",
    "\n",
    "plt.show()\n",
    "\n",
    "plt.figure(figsize=(12, 6))\n",
    "plt.plot(test_set['date'], test_set['windcat'], 'o')           # scatter plot showing actual data\n",
    "plt.plot(test_set['date'], test_wind_predictions, '.')   # regression line\n",
    "plt.xlabel('Date')\n",
    "plt.ylabel('WindForce')\n",
    "plt.title('WindForce VS Test Tree Predictions')\n",
    "\n",
    "plt.xlim([datetime.date(2000,1,1), datetime.date(2000,1,5)])\n",
    "\n",
    "plt.show()\n",
    "\n",
    "plt.figure(figsize=(12, 6))\n",
    "plt.plot(test_set['date'], test_set['windcat'], 'o')           # scatter plot showing actual data\n",
    "plt.plot(test_set['date'], test_wind_predictions, '.')   # regression line\n",
    "plt.xlabel('Date')\n",
    "plt.ylabel('WindForce')\n",
    "plt.title('WindForce VS Test Tree Predictions')\n",
    "\n",
    "plt.xlim([datetime.date(2000,1,1), datetime.date(2001,1,1)])\n",
    "\n",
    "plt.show()"
   ]
  },
  {
   "cell_type": "code",
   "execution_count": 55,
   "id": "a3aa1372",
   "metadata": {},
   "outputs": [
    {
     "data": {
      "text/plain": [
       "array([0.072994  , 0.04169885, 0.08879764, 0.04265654, 0.02765381,\n",
       "       0.02633131, 0.02521294, 0.03277101, 0.0287969 , 0.02548598,\n",
       "       0.03032806, 0.0721868 , 0.07339037, 0.07826442, 0.13650203,\n",
       "       0.09301847, 0.07141129, 0.03249959])"
      ]
     },
     "execution_count": 55,
     "metadata": {},
     "output_type": "execute_result"
    }
   ],
   "source": [
    "forest_reg.feature_importances_"
   ]
  },
  {
   "cell_type": "code",
   "execution_count": 56,
   "id": "78ea6cc9",
   "metadata": {},
   "outputs": [
    {
     "data": {
      "image/png": "[encoded data removed]",
      "text/plain": [
       "<Figure size 864x432 with 1 Axes>"
      ]
     },
     "metadata": {
      "needs_background": "light"
     },
     "output_type": "display_data"
    }
   ],
   "source": [
    "fig = plt.figure(figsize=(12, 6))\n",
    "ax = fig.add_axes([0,0,1,1])\n",
    "\n",
    "ax.barh(num_attribs, forest_reg.feature_importances_)\n",
    "plt.show()"
   ]
  },
  {
   "cell_type": "code",
   "execution_count": 57,
   "id": "c8aacb75",
   "metadata": {},
   "outputs": [],
   "source": [
    "    #5)\tChoose one of the variables that was removed and explain \n",
    "    #why you think it was unnecessary when estimating windforce."
   ]
  },
  {
   "cell_type": "code",
   "execution_count": null,
   "id": "c94ff40f",
   "metadata": {},
   "outputs": [],
   "source": []
  }
 ],
 "metadata": {
  "kernelspec": {
   "display_name": "Python 3 (ipykernel)",
   "language": "python",
   "name": "python3"
  },
  "language_info": {
   "codemirror_mode": {
    "name": "ipython",
    "version": 3
   },
   "file_extension": ".py",
   "mimetype": "text/x-python",
   "name": "python",
   "nbconvert_exporter": "python",
   "pygments_lexer": "ipython3",
   "version": "3.8.12"
  }
 },
 "nbformat": 4,
 "nbformat_minor": 5
}
